{
 "cells": [
  {
   "cell_type": "code",
   "execution_count": 1,
   "metadata": {},
   "outputs": [],
   "source": [
    "# Import libraries\n",
    "import pandas as pd\n",
    "import numpy as np\n",
    "import matplotlib.pyplot as plt\n",
    "import matplotlib\n",
    "# from LSTUR import Tokenizer\n",
    "from collections import Counter"
   ]
  },
  {
   "cell_type": "code",
   "execution_count": 24,
   "metadata": {},
   "outputs": [
    {
     "name": "stdout",
     "output_type": "stream",
     "text": [
      "nr. users trin: 49108\n",
      "nr. users vali: 48593\n",
      "Total Amound of Users 91935\n",
      "Intersection 5766\n",
      "Percentage of users in validation set: 0.11865906612063466\n"
     ]
    }
   ],
   "source": [
    "# load Demo data\n",
    "# Load tsv file\n",
    "News = pd.read_csv('Data/MINDsmall_train/news.tsv', sep='\\t', header=None)\n",
    "News.columns = ['news_id', 'category', 'subcategory', 'title', 'abstract', 'url', 'title_entities', 'abstract_entities']\n",
    "News_vali = pd.read_csv('Data/MINDsmall_dev/news.tsv', sep='\\t', header=None)\n",
    "News_vali.columns = ['news_id', 'category', 'subcategory', 'title', 'abstract', 'url', 'title_entities', 'abstract_entities']\n",
    "\n",
    "News = pd.concat([News, News_vali], ignore_index=True)\n",
    "News = News.drop_duplicates(subset='news_id')\n",
    "\n",
    "UserData = pd.read_csv('Data/MINDsmall_train/behaviors.tsv', sep='\\t', header=None)\n",
    "UserData.columns = ['impression_id', 'user_id', 'time', 'history', 'impressions']\n",
    "UserData_vali = pd.read_csv('Data/MINDsmall_dev/behaviors.tsv', sep='\\t', header=None)\n",
    "UserData_vali.columns = ['impression_id', 'user_id', 'time', 'history', 'impressions']\n",
    "# UserData = pd.concat([UserData, UserData_vali], ignore_index=True)\n",
    "\n",
    "UserData = UserData.dropna()\n",
    "UserData_vali = UserData_vali.dropna()\n",
    "topic_size = News['category'].nunique()\n",
    "subtopic_size = News['subcategory'].nunique()\n",
    "\n",
    "# get ratio between known and unknown users from train and validation set\n",
    "\n",
    "# Find unique users in \n",
    "users_train_demo = set(UserData[\"user_id\"])\n",
    "users_vali_demo = set(UserData_vali[\"user_id\"])\n",
    "\n",
    "all_users_demo = users_train_demo.union(users_vali_demo)\n",
    "\n",
    "print('nr. users trin:',len(users_train_demo))\n",
    "print('nr. users vali:',len(users_vali_demo))\n",
    "\n",
    "print('Total Amound of Users',len(all_users_demo))\n",
    "\n",
    "print(\"Intersection\", len(users_train_demo.intersection(users_vali_demo)))\n",
    "\n",
    "# Percentage of users in validation set\n",
    "print('Percentage of users in validation set:',len(users_train_demo.intersection(users_vali_demo))/len(users_vali_demo))"
   ]
  },
  {
   "cell_type": "code",
   "execution_count": 22,
   "metadata": {},
   "outputs": [
    {
     "name": "stdout",
     "output_type": "stream",
     "text": [
      "nr. users trin: 4854\n",
      "nr. users vali: 4854\n",
      "Total Amound of Users 4854\n",
      "Percentage of users in validation set: 1.0\n"
     ]
    }
   ],
   "source": [
    "# load Demo data\n",
    "# Load tsv file\n",
    "News = pd.read_csv('Data/MINDdemo_train/news.tsv', sep='\\t', header=None)\n",
    "News.columns = ['news_id', 'category', 'subcategory', 'title', 'abstract', 'url', 'title_entities', 'abstract_entities']\n",
    "News_vali = pd.read_csv('Data/MINDdemo_dev/news.tsv', sep='\\t', header=None)\n",
    "News_vali.columns = ['news_id', 'category', 'subcategory', 'title', 'abstract', 'url', 'title_entities', 'abstract_entities']\n",
    "\n",
    "News = pd.concat([News, News_vali], ignore_index=True)\n",
    "News = News.drop_duplicates(subset='news_id')\n",
    "\n",
    "UserData = pd.read_csv('Data/MINDdemo_train/behaviors.tsv', sep='\\t', header=None)\n",
    "UserData.columns = ['impression_id', 'user_id', 'time', 'history', 'impressions']\n",
    "UserData_vali = pd.read_csv('Data/MINDdemo_dev/behaviors.tsv', sep='\\t', header=None)\n",
    "UserData_vali.columns = ['impression_id', 'user_id', 'time', 'history', 'impressions']\n",
    "# UserData = pd.concat([UserData, UserData_vali], ignore_index=True)\n",
    "\n",
    "UserData = UserData.dropna()\n",
    "UserData_vali = UserData_vali.dropna()\n",
    "topic_size = News['category'].nunique()\n",
    "subtopic_size = News['subcategory'].nunique()\n",
    "\n",
    "# get ratio between known and unknown users from train and validation set\n",
    "\n",
    "# Find unique users in \n",
    "users_train_demo = set(UserData[\"user_id\"])\n",
    "users_vali_demo = set(UserData_vali[\"user_id\"])\n",
    "\n",
    "all_users_demo = users_train_demo.union(users_vali_demo)\n",
    "\n",
    "print('nr. users trin:',len(users_train_demo))\n",
    "print('nr. users vali:',len(users_vali_demo))\n",
    "\n",
    "print('Total Amound of Users',len(all_users_demo))\n",
    "\n",
    "# Percentage of users in validation set\n",
    "print('Percentage of users in validation set:',len(users_train_demo.intersection(users_vali_demo))/len(users_vali_demo))"
   ]
  },
  {
   "cell_type": "code",
   "execution_count": 23,
   "metadata": {},
   "outputs": [
    {
     "name": "stdout",
     "output_type": "stream",
     "text": [
      "nr. users trin: 4534\n",
      "nr. users vali: 2629\n",
      "Total Amound of Users 4854\n",
      "Intersection 2309\n",
      "Percentage of users in validation set: 0.8782807151007987\n"
     ]
    }
   ],
   "source": [
    "# load Demo data\n",
    "# Load tsv file\n",
    "News = pd.read_csv('Data/MINDdemo_train/news.tsv', sep='\\t', header=None)\n",
    "News.columns = ['news_id', 'category', 'subcategory', 'title', 'abstract', 'url', 'title_entities', 'abstract_entities']\n",
    "News_vali = pd.read_csv('Data/MINDdemo_dev/news.tsv', sep='\\t', header=None)\n",
    "News_vali.columns = ['news_id', 'category', 'subcategory', 'title', 'abstract', 'url', 'title_entities', 'abstract_entities']\n",
    "\n",
    "News = pd.concat([News, News_vali], ignore_index=True)\n",
    "News = News.drop_duplicates(subset='news_id')\n",
    "\n",
    "UserData = pd.read_csv('Data/MINDsubdemo_train/behaviors.tsv', sep='\\t', header=None)\n",
    "UserData.columns = ['impression_id', 'user_id', 'time', 'history', 'impressions']\n",
    "UserData_vali = pd.read_csv('Data/MINDdemo_opt/behaviors.tsv', sep='\\t', header=None)\n",
    "UserData_vali.columns = ['impression_id', 'user_id', 'time', 'history', 'impressions']\n",
    "# UserData = pd.concat([UserData, UserData_vali], ignore_index=True)\n",
    "\n",
    "UserData = UserData.dropna()\n",
    "UserData_vali = UserData_vali.dropna()\n",
    "topic_size = News['category'].nunique()\n",
    "subtopic_size = News['subcategory'].nunique()\n",
    "\n",
    "# get ratio between known and unknown users from train and validation set\n",
    "\n",
    "# Find unique users in \n",
    "users_train_demo = set(UserData[\"user_id\"])\n",
    "users_vali_demo = set(UserData_vali[\"user_id\"])\n",
    "\n",
    "all_users_demo = users_train_demo.union(users_vali_demo)\n",
    "\n",
    "print('nr. users trin:',len(users_train_demo))\n",
    "print('nr. users vali:',len(users_vali_demo))\n",
    "\n",
    "print('Total Amound of Users',len(all_users_demo))\n",
    "\n",
    "print(\"Intersection\", len(users_train_demo.intersection(users_vali_demo)))\n",
    "\n",
    "# Percentage of users in validation set\n",
    "print('Percentage of users in validation set:',len(users_train_demo.intersection(users_vali_demo))/len(users_vali_demo))"
   ]
  },
  {
   "cell_type": "code",
   "execution_count": null,
   "metadata": {},
   "outputs": [],
   "source": []
  },
  {
   "cell_type": "code",
   "execution_count": 9,
   "metadata": {},
   "outputs": [
    {
     "name": "stdout",
     "output_type": "stream",
     "text": [
      "Ratio of known users:  0.5341600043509\n"
     ]
    }
   ],
   "source": [
    "# print ratio of known users\n",
    "print(\"Ratio of known users: \", len(users_train_demo)/len(all_users_demo))"
   ]
  },
  {
   "cell_type": "code",
   "execution_count": 4,
   "metadata": {},
   "outputs": [
    {
     "data": {
      "text/plain": [
       "array(['11/11/2019', '11/12/2019', '11/13/2019', '11/10/2019',\n",
       "       '11/9/2019'], dtype=object)"
      ]
     },
     "execution_count": 4,
     "metadata": {},
     "output_type": "execute_result"
    }
   ],
   "source": [
    "UserData['date'] = UserData['time'].apply(lambda x: x.split()[0])\n",
    "UserData['date'].unique()"
   ]
  },
  {
   "cell_type": "code",
   "execution_count": 11,
   "metadata": {},
   "outputs": [],
   "source": [
    "UserData_train = UserData[UserData['date'] != '11/14/2019']\n",
    "UserData_opt = UserData[UserData['date'] == '11/14/2019']\n",
    "\n",
    "\n",
    "# Drop Date column\n",
    "UserData_train = UserData_train.drop(columns=['date'])\n",
    "UserData_opt = UserData_opt.drop(columns=['date'])\n"
   ]
  },
  {
   "cell_type": "code",
   "execution_count": 12,
   "metadata": {},
   "outputs": [],
   "source": [
    "UserData_train.to_csv('Data/MINDsubdemo_train/behaviors.tsv', sep='\\t', index=False, header=False)\n",
    "UserData_opt.to_csv('Data/MINDdemo_opt/behaviors.tsv', sep='\\t', index=False, header=False)"
   ]
  }
 ],
 "metadata": {
  "kernelspec": {
   "display_name": "Python 3",
   "language": "python",
   "name": "python3"
  },
  "language_info": {
   "codemirror_mode": {
    "name": "ipython",
    "version": 3
   },
   "file_extension": ".py",
   "mimetype": "text/x-python",
   "name": "python",
   "nbconvert_exporter": "python",
   "pygments_lexer": "ipython3",
   "version": "3.9.16"
  },
  "orig_nbformat": 4
 },
 "nbformat": 4,
 "nbformat_minor": 2
}
