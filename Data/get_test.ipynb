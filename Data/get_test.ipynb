{
 "cells": [
  {
   "cell_type": "code",
   "execution_count": 9,
   "metadata": {},
   "outputs": [],
   "source": [
    "# Import libraries\n",
    "import pandas as pd\n",
    "import numpy as np\n",
    "import matplotlib.pyplot as plt\n",
    "import matplotlib\n",
    "# from LSTUR import Tokenizer\n",
    "from collections import Counter"
   ]
  },
  {
   "cell_type": "code",
   "execution_count": 10,
   "metadata": {},
   "outputs": [
    {
     "name": "stdout",
     "output_type": "stream",
     "text": [
      "4854\n",
      "1.0\n"
     ]
    }
   ],
   "source": [
    "# Load tsv file\n",
    "News = pd.read_csv('Data/MINDdemo_train/news.tsv', sep='\\t', header=None)\n",
    "News.columns = ['news_id', 'category', 'subcategory', 'title', 'abstract', 'url', 'title_entities', 'abstract_entities']\n",
    "News_vali = pd.read_csv('Data/MINDdemo_dev/news.tsv', sep='\\t', header=None)\n",
    "News_vali.columns = ['news_id', 'category', 'subcategory', 'title', 'abstract', 'url', 'title_entities', 'abstract_entities']\n",
    "\n",
    "News = pd.concat([News, News_vali], ignore_index=True)\n",
    "News = News.drop_duplicates(subset='news_id')\n",
    "\n",
    "UserData = pd.read_csv('Data/MINDdemo_train/behaviors.tsv', sep='\\t', header=None)\n",
    "UserData.columns = ['impression_id', 'user_id', 'time', 'history', 'impressions']\n",
    "UserData_vali = pd.read_csv('Data/MINDdemo_dev/behaviors.tsv', sep='\\t', header=None)\n",
    "UserData_vali.columns = ['impression_id', 'user_id', 'time', 'history', 'impressions']\n",
    "# UserData = pd.concat([UserData, UserData_vali], ignore_index=True)\n",
    "\n",
    "UserData = UserData.dropna()\n",
    "UserData_vali = UserData_vali.dropna()\n",
    "topic_size = News['category'].nunique()\n",
    "subtopic_size = News['subcategory'].nunique()\n",
    "\n",
    "# get ratio between known and unknown users from train and validation set\n",
    "\n",
    "# Find unique users in \n",
    "users_train = list(set(UserData[\"user_id\"]))\n",
    "users_vali = list(set(UserData_vali[\"user_id\"]))\n",
    "\n",
    "# known = np.isin(users_train,users_vali).sum()\n",
    "known = sum(el in users_train for el in users_vali)\n",
    "print(known)\n",
    "\n",
    "\n",
    "known_ratio = known/len(users_train)\n",
    "print(known_ratio)"
   ]
  },
  {
   "cell_type": "code",
   "execution_count": 11,
   "metadata": {},
   "outputs": [
    {
     "name": "stdout",
     "output_type": "stream",
     "text": [
      "4854\n",
      "4854\n"
     ]
    }
   ],
   "source": [
    "print(len(set(UserData[\"user_id\"])))\n",
    "print(len(set(UserData_vali[\"user_id\"])))\n"
   ]
  },
  {
   "cell_type": "code",
   "execution_count": 12,
   "metadata": {},
   "outputs": [
    {
     "data": {
      "text/plain": [
       "4854"
      ]
     },
     "execution_count": 12,
     "metadata": {},
     "output_type": "execute_result"
    }
   ],
   "source": [
    "all_users = list(set(UserData[\"user_id\"]).union(set(UserData_vali[\"user_id\"])))\n",
    "all_users = np.array(all_users)\n",
    "\n",
    "len(all_users)\n",
    "\n"
   ]
  },
  {
   "cell_type": "code",
   "execution_count": 13,
   "metadata": {},
   "outputs": [
    {
     "data": {
      "text/html": [
       "<div>\n",
       "<style scoped>\n",
       "    .dataframe tbody tr th:only-of-type {\n",
       "        vertical-align: middle;\n",
       "    }\n",
       "\n",
       "    .dataframe tbody tr th {\n",
       "        vertical-align: top;\n",
       "    }\n",
       "\n",
       "    .dataframe thead th {\n",
       "        text-align: right;\n",
       "    }\n",
       "</style>\n",
       "<table border=\"1\" class=\"dataframe\">\n",
       "  <thead>\n",
       "    <tr style=\"text-align: right;\">\n",
       "      <th></th>\n",
       "      <th>impression_id</th>\n",
       "      <th>user_id</th>\n",
       "      <th>time</th>\n",
       "      <th>history</th>\n",
       "      <th>impressions</th>\n",
       "    </tr>\n",
       "  </thead>\n",
       "  <tbody>\n",
       "    <tr>\n",
       "      <th>0</th>\n",
       "      <td>1</td>\n",
       "      <td>U64099</td>\n",
       "      <td>11/19/2019 11:37:45 AM</td>\n",
       "      <td>N121133 N104200 N43255 N55860 N128965 N38014 N...</td>\n",
       "      <td>N101071 N15647 N83400 N124838 N57092 N64623 N6...</td>\n",
       "    </tr>\n",
       "    <tr>\n",
       "      <th>1</th>\n",
       "      <td>2</td>\n",
       "      <td>U231077</td>\n",
       "      <td>11/19/2019 5:28:08 AM</td>\n",
       "      <td>N45124 N84730 N45128 N104312 N70022 N99111 N26...</td>\n",
       "      <td>N14657 N51253 N49521 N126571 N74286 N101071 N1...</td>\n",
       "    </tr>\n",
       "    <tr>\n",
       "      <th>2</th>\n",
       "      <td>3</td>\n",
       "      <td>U606012</td>\n",
       "      <td>11/19/2019 4:46:23 AM</td>\n",
       "      <td>N59893 N84662 N90686 N33265 N127225 N120859 N6...</td>\n",
       "      <td>N74286 N9250 N26898 N123737 N98301 N80580 N456...</td>\n",
       "    </tr>\n",
       "    <tr>\n",
       "      <th>3</th>\n",
       "      <td>4</td>\n",
       "      <td>U320649</td>\n",
       "      <td>11/21/2019 6:03:51 AM</td>\n",
       "      <td>N110863 N7889 N86335 N85056 N115743 N63372 N19...</td>\n",
       "      <td>N119559 N37657 N108085 N91287 N39136 N130190 N...</td>\n",
       "    </tr>\n",
       "    <tr>\n",
       "      <th>4</th>\n",
       "      <td>5</td>\n",
       "      <td>U357840</td>\n",
       "      <td>11/22/2019 10:36:19 AM</td>\n",
       "      <td>N98596 N85005 N15713 N67779 N47961 N55571 N666...</td>\n",
       "      <td>N60658 N43496 N65220 N9125 N63136 N83728 N3208...</td>\n",
       "    </tr>\n",
       "  </tbody>\n",
       "</table>\n",
       "</div>"
      ],
      "text/plain": [
       "   impression_id  user_id                    time  \\\n",
       "0              1   U64099  11/19/2019 11:37:45 AM   \n",
       "1              2  U231077   11/19/2019 5:28:08 AM   \n",
       "2              3  U606012   11/19/2019 4:46:23 AM   \n",
       "3              4  U320649   11/21/2019 6:03:51 AM   \n",
       "4              5  U357840  11/22/2019 10:36:19 AM   \n",
       "\n",
       "                                             history  \\\n",
       "0  N121133 N104200 N43255 N55860 N128965 N38014 N...   \n",
       "1  N45124 N84730 N45128 N104312 N70022 N99111 N26...   \n",
       "2  N59893 N84662 N90686 N33265 N127225 N120859 N6...   \n",
       "3  N110863 N7889 N86335 N85056 N115743 N63372 N19...   \n",
       "4  N98596 N85005 N15713 N67779 N47961 N55571 N666...   \n",
       "\n",
       "                                         impressions  \n",
       "0  N101071 N15647 N83400 N124838 N57092 N64623 N6...  \n",
       "1  N14657 N51253 N49521 N126571 N74286 N101071 N1...  \n",
       "2  N74286 N9250 N26898 N123737 N98301 N80580 N456...  \n",
       "3  N119559 N37657 N108085 N91287 N39136 N130190 N...  \n",
       "4  N60658 N43496 N65220 N9125 N63136 N83728 N3208...  "
      ]
     },
     "execution_count": 13,
     "metadata": {},
     "output_type": "execute_result"
    }
   ],
   "source": [
    "# Load in the large dataset\n",
    "\n",
    "NewsL = pd.read_csv('Data/MIND_large_test/news.tsv', sep='\\t', header=None)\n",
    "NewsL.columns = ['news_id', 'category', 'subcategory', 'title', 'abstract', 'url', 'title_entities', 'abstract_entities']\n",
    "\n",
    "UserDataL = pd.read_csv('Data/MIND_large_test/behaviors.tsv', sep='\\t', header=None)\n",
    "UserDataL.columns = ['impression_id', 'user_id', 'time', 'history', 'impressions']\n",
    "\n",
    "UserDataL = UserDataL.dropna()\n",
    "\n",
    "\n",
    "UserDataL.head()\n",
    "\n"
   ]
  },
  {
   "cell_type": "code",
   "execution_count": 19,
   "metadata": {},
   "outputs": [],
   "source": [
    "#All users in large dataset:\n",
    "users_large = UserDataL[:50000]\n",
    "\n",
    "\n",
    "users_large = UserDataL[\"user_id\"]\n",
    "\n",
    "\n",
    "user_filter = np.isin(users_large,all_users)\n",
    "\n",
    "\n",
    "\n",
    "\n",
    "\n"
   ]
  },
  {
   "cell_type": "code",
   "execution_count": 24,
   "metadata": {},
   "outputs": [
    {
     "data": {
      "text/html": [
       "<div>\n",
       "<style scoped>\n",
       "    .dataframe tbody tr th:only-of-type {\n",
       "        vertical-align: middle;\n",
       "    }\n",
       "\n",
       "    .dataframe tbody tr th {\n",
       "        vertical-align: top;\n",
       "    }\n",
       "\n",
       "    .dataframe thead th {\n",
       "        text-align: right;\n",
       "    }\n",
       "</style>\n",
       "<table border=\"1\" class=\"dataframe\">\n",
       "  <thead>\n",
       "    <tr style=\"text-align: right;\">\n",
       "      <th></th>\n",
       "      <th>impression_id</th>\n",
       "      <th>user_id</th>\n",
       "      <th>time</th>\n",
       "      <th>history</th>\n",
       "      <th>impressions</th>\n",
       "    </tr>\n",
       "  </thead>\n",
       "  <tbody>\n",
       "    <tr>\n",
       "      <th>148</th>\n",
       "      <td>149</td>\n",
       "      <td>U59668</td>\n",
       "      <td>11/21/2019 11:59:16 AM</td>\n",
       "      <td>N56381 N112546 N14678 N74557 N122444 N70710 N6...</td>\n",
       "      <td>N122092 N66854 N95474 N94658 N34732 N75138 N12...</td>\n",
       "    </tr>\n",
       "    <tr>\n",
       "      <th>298</th>\n",
       "      <td>299</td>\n",
       "      <td>U30365</td>\n",
       "      <td>11/19/2019 6:39:41 AM</td>\n",
       "      <td>N90966 N7937 N76665</td>\n",
       "      <td>N26339 N108383 N34085 N21306 N117818 N101071 N...</td>\n",
       "    </tr>\n",
       "    <tr>\n",
       "      <th>434</th>\n",
       "      <td>435</td>\n",
       "      <td>U83857</td>\n",
       "      <td>11/17/2019 10:42:13 AM</td>\n",
       "      <td>N125223 N63723 N116312 N12959 N104081 N96516 N...</td>\n",
       "      <td>N41089 N90685 N100425 N96011 N91882 N122775 N2...</td>\n",
       "    </tr>\n",
       "    <tr>\n",
       "      <th>873</th>\n",
       "      <td>874</td>\n",
       "      <td>U33580</td>\n",
       "      <td>11/19/2019 4:37:53 AM</td>\n",
       "      <td>N99676 N5332 N114369 N85428 N107594 N25670 N21...</td>\n",
       "      <td>N119421 N87027 N96686 N50837 N89029 N51253 N79...</td>\n",
       "    </tr>\n",
       "    <tr>\n",
       "      <th>914</th>\n",
       "      <td>915</td>\n",
       "      <td>U90648</td>\n",
       "      <td>11/18/2019 12:11:49 PM</td>\n",
       "      <td>N3285 N73137 N50485 N85103 N64308 N24701 N45410</td>\n",
       "      <td>N102888 N104868 N90804 N59499 N14538 N90169 N6...</td>\n",
       "    </tr>\n",
       "  </tbody>\n",
       "</table>\n",
       "</div>"
      ],
      "text/plain": [
       "     impression_id user_id                    time  \\\n",
       "148            149  U59668  11/21/2019 11:59:16 AM   \n",
       "298            299  U30365   11/19/2019 6:39:41 AM   \n",
       "434            435  U83857  11/17/2019 10:42:13 AM   \n",
       "873            874  U33580   11/19/2019 4:37:53 AM   \n",
       "914            915  U90648  11/18/2019 12:11:49 PM   \n",
       "\n",
       "                                               history  \\\n",
       "148  N56381 N112546 N14678 N74557 N122444 N70710 N6...   \n",
       "298                                N90966 N7937 N76665   \n",
       "434  N125223 N63723 N116312 N12959 N104081 N96516 N...   \n",
       "873  N99676 N5332 N114369 N85428 N107594 N25670 N21...   \n",
       "914    N3285 N73137 N50485 N85103 N64308 N24701 N45410   \n",
       "\n",
       "                                           impressions  \n",
       "148  N122092 N66854 N95474 N94658 N34732 N75138 N12...  \n",
       "298  N26339 N108383 N34085 N21306 N117818 N101071 N...  \n",
       "434  N41089 N90685 N100425 N96011 N91882 N122775 N2...  \n",
       "873  N119421 N87027 N96686 N50837 N89029 N51253 N79...  \n",
       "914  N102888 N104868 N90804 N59499 N14538 N90169 N6...  "
      ]
     },
     "execution_count": 24,
     "metadata": {},
     "output_type": "execute_result"
    }
   ],
   "source": [
    "#Filter so that only known users are in the dataset:\n",
    "users_filtered = UserDataL[user_filter]\n",
    "users_filtered.head()\n"
   ]
  },
  {
   "cell_type": "code",
   "execution_count": 27,
   "metadata": {},
   "outputs": [],
   "source": [
    "#Export dataframe to csv\n",
    "users_filtered.to_csv('data/MINDdemo_test/behaviors.tsv', sep=\"\\t\")"
   ]
  },
  {
   "cell_type": "code",
   "execution_count": null,
   "metadata": {},
   "outputs": [],
   "source": []
  }
 ],
 "metadata": {
  "kernelspec": {
   "display_name": "Python 3",
   "language": "python",
   "name": "python3"
  },
  "language_info": {
   "codemirror_mode": {
    "name": "ipython",
    "version": 3
   },
   "file_extension": ".py",
   "mimetype": "text/x-python",
   "name": "python",
   "nbconvert_exporter": "python",
   "pygments_lexer": "ipython3",
   "version": "3.9.13"
  },
  "orig_nbformat": 4
 },
 "nbformat": 4,
 "nbformat_minor": 2
}
