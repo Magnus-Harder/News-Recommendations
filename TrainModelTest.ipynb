{
 "cells": [
  {
   "cell_type": "code",
   "execution_count": 1,
   "metadata": {},
   "outputs": [
    {
     "name": "stderr",
     "output_type": "stream",
     "text": [
      "/Users/magnusharder/Documents/UNI-DTU/6. Semester/Bachelor Projekt/News-Recommendations/.venv/lib/python3.9/site-packages/tqdm/auto.py:22: TqdmWarning: IProgress not found. Please update jupyter and ipywidgets. See https://ipywidgets.readthedocs.io/en/stable/user_install.html\n",
      "  from .autonotebook import tqdm as notebook_tqdm\n"
     ]
    },
    {
     "name": "stdout",
     "output_type": "stream",
     "text": [
      "Data contains 17 topics and 264 subtopics\n"
     ]
    }
   ],
   "source": [
    "# Import libraries\n",
    "import pandas as pd\n",
    "import random\n",
    "import torch as th\n",
    "\n",
    "# Import Scripts\n",
    "from Utils import ValidateModel\n",
    "from Data_loaders import load_batch, User_vocab,Category_vocab,Subcategory_vocab , User_vali, UserData "
   ]
  },
  {
   "cell_type": "code",
   "execution_count": 2,
   "metadata": {},
   "outputs": [],
   "source": [
    "# Load Model\n",
    "from LSTUR import LSTUR_con\n",
    "from torch import nn,optim\n",
    "device = \"cpu\"\n",
    "max_history_length = 50\n",
    "\n",
    "\n",
    "LSTUR_con_module = LSTUR_con(\n",
    "    seq_len = max_history_length,\n",
    "    user_dim=300,\n",
    "    user_size=User_vocab.__len__(),\n",
    "    topic_size=Category_vocab.__len__(),\n",
    "    topic_dim=100,\n",
    "    subtopic_size=Subcategory_vocab.__len__(),\n",
    "    subtopic_dim=100,\n",
    "    word_dim=300,\n",
    "    device=device\n",
    ")\n",
    "\n",
    "loss_fn = nn.CrossEntropyLoss()\n",
    "optimizer = optim.Adam(LSTUR_con_module.parameters(), lr=0.001)\n",
    "\n",
    "model = LSTUR_con_module.to(device)\n"
   ]
  },
  {
   "cell_type": "code",
   "execution_count": 3,
   "metadata": {},
   "outputs": [
    {
     "ename": "RuntimeError",
     "evalue": "Expected tensor for argument #1 'indices' to have one of the following scalar types: Long, Int; but got CPUBoolType instead (while checking arguments for embedding)",
     "output_type": "error",
     "traceback": [
      "\u001b[0;31m---------------------------------------------------------------------------\u001b[0m",
      "\u001b[0;31mRuntimeError\u001b[0m                              Traceback (most recent call last)",
      "Cell \u001b[0;32mIn[3], line 3\u001b[0m\n\u001b[1;32m      1\u001b[0m Validation \u001b[39m=\u001b[39m ValidateModel(data_loader \u001b[39m=\u001b[39m load_batch, data \u001b[39m=\u001b[39m User_vali, batch_size\u001b[39m=\u001b[39m\u001b[39m100\u001b[39m, metrics \u001b[39m=\u001b[39m [\u001b[39m'\u001b[39m\u001b[39mMRR\u001b[39m\u001b[39m'\u001b[39m,\u001b[39m'\u001b[39m\u001b[39mROC_AUC\u001b[39m\u001b[39m'\u001b[39m], device\u001b[39m=\u001b[39mdevice,train\u001b[39m=\u001b[39m\u001b[39mFalse\u001b[39;00m)\n\u001b[0;32m----> 3\u001b[0m Validation\u001b[39m.\u001b[39;49mget_metrics(LSTUR_con_module, \u001b[39m10\u001b[39;49m)\n",
      "File \u001b[0;32m~/Documents/UNI-DTU/6. Semester/Bachelor Projekt/News-Recommendations/Utils.py:47\u001b[0m, in \u001b[0;36mValidateModel.get_metrics\u001b[0;34m(self, model, batches)\u001b[0m\n\u001b[1;32m     44\u001b[0m \u001b[39mfor\u001b[39;00m i \u001b[39min\u001b[39;00m \u001b[39mrange\u001b[39m(batches):\n\u001b[1;32m     45\u001b[0m     User_en, Category, Subcategory, History_tensor, history_len, Category_Impressions, Subcategory_Impressions, Impressions_tensor, Impressions_len, Clicked \u001b[39m=\u001b[39m load_batches\u001b[39m.\u001b[39m\u001b[39m__next__\u001b[39m()\n\u001b[0;32m---> 47\u001b[0m     output \u001b[39m=\u001b[39m model(User_en, Category, Subcategory, History_tensor, history_len, Category_Impressions, Subcategory_Impressions, Impressions_tensor)\n\u001b[1;32m     48\u001b[0m     pred \u001b[39m=\u001b[39m \u001b[39mself\u001b[39m\u001b[39m.\u001b[39mSoftmax(output)\n\u001b[1;32m     51\u001b[0m     MRR \u001b[39m=\u001b[39m \u001b[39mself\u001b[39m\u001b[39m.\u001b[39mmean_reciprocal_rank(Clicked,pred)\u001b[39m.\u001b[39mitem()\n",
      "File \u001b[0;32m~/Documents/UNI-DTU/6. Semester/Bachelor Projekt/News-Recommendations/.venv/lib/python3.9/site-packages/torch/nn/modules/module.py:1194\u001b[0m, in \u001b[0;36mModule._call_impl\u001b[0;34m(self, *input, **kwargs)\u001b[0m\n\u001b[1;32m   1190\u001b[0m \u001b[39m# If we don't have any hooks, we want to skip the rest of the logic in\u001b[39;00m\n\u001b[1;32m   1191\u001b[0m \u001b[39m# this function, and just call forward.\u001b[39;00m\n\u001b[1;32m   1192\u001b[0m \u001b[39mif\u001b[39;00m \u001b[39mnot\u001b[39;00m (\u001b[39mself\u001b[39m\u001b[39m.\u001b[39m_backward_hooks \u001b[39mor\u001b[39;00m \u001b[39mself\u001b[39m\u001b[39m.\u001b[39m_forward_hooks \u001b[39mor\u001b[39;00m \u001b[39mself\u001b[39m\u001b[39m.\u001b[39m_forward_pre_hooks \u001b[39mor\u001b[39;00m _global_backward_hooks\n\u001b[1;32m   1193\u001b[0m         \u001b[39mor\u001b[39;00m _global_forward_hooks \u001b[39mor\u001b[39;00m _global_forward_pre_hooks):\n\u001b[0;32m-> 1194\u001b[0m     \u001b[39mreturn\u001b[39;00m forward_call(\u001b[39m*\u001b[39;49m\u001b[39minput\u001b[39;49m, \u001b[39m*\u001b[39;49m\u001b[39m*\u001b[39;49mkwargs)\n\u001b[1;32m   1195\u001b[0m \u001b[39m# Do not call functions when jit is used\u001b[39;00m\n\u001b[1;32m   1196\u001b[0m full_backward_hooks, non_full_backward_hooks \u001b[39m=\u001b[39m [], []\n",
      "File \u001b[0;32m~/Documents/UNI-DTU/6. Semester/Bachelor Projekt/News-Recommendations/LSTUR.py:117\u001b[0m, in \u001b[0;36mLSTUR_con.forward\u001b[0;34m(self, users, topic, subtopic, W, src_len, Candidate_topic, Candidate_subtopic, CandidateNews)\u001b[0m\n\u001b[1;32m    115\u001b[0m \u001b[39mdef\u001b[39;00m \u001b[39mforward\u001b[39m(\u001b[39mself\u001b[39m, users,topic,subtopic, W, src_len, Candidate_topic,Candidate_subtopic,CandidateNews):\n\u001b[1;32m    116\u001b[0m     b, n, t, _ \u001b[39m=\u001b[39m CandidateNews\u001b[39m.\u001b[39mshape\n\u001b[0;32m--> 117\u001b[0m     Users \u001b[39m=\u001b[39m \u001b[39mself\u001b[39;49m\u001b[39m.\u001b[39;49mUserEncoder(users,topic,subtopic, W, src_len)\n\u001b[1;32m    119\u001b[0m     Candidates \u001b[39m=\u001b[39m  th\u001b[39m.\u001b[39mzeros(b,n,\u001b[39m500\u001b[39m,device\u001b[39m=\u001b[39m\u001b[39mself\u001b[39m\u001b[39m.\u001b[39mdevice)\n\u001b[1;32m    120\u001b[0m     \u001b[39mfor\u001b[39;00m i \u001b[39min\u001b[39;00m \u001b[39mrange\u001b[39m(b):\n",
      "File \u001b[0;32m~/Documents/UNI-DTU/6. Semester/Bachelor Projekt/News-Recommendations/.venv/lib/python3.9/site-packages/torch/nn/modules/module.py:1194\u001b[0m, in \u001b[0;36mModule._call_impl\u001b[0;34m(self, *input, **kwargs)\u001b[0m\n\u001b[1;32m   1190\u001b[0m \u001b[39m# If we don't have any hooks, we want to skip the rest of the logic in\u001b[39;00m\n\u001b[1;32m   1191\u001b[0m \u001b[39m# this function, and just call forward.\u001b[39;00m\n\u001b[1;32m   1192\u001b[0m \u001b[39mif\u001b[39;00m \u001b[39mnot\u001b[39;00m (\u001b[39mself\u001b[39m\u001b[39m.\u001b[39m_backward_hooks \u001b[39mor\u001b[39;00m \u001b[39mself\u001b[39m\u001b[39m.\u001b[39m_forward_hooks \u001b[39mor\u001b[39;00m \u001b[39mself\u001b[39m\u001b[39m.\u001b[39m_forward_pre_hooks \u001b[39mor\u001b[39;00m _global_backward_hooks\n\u001b[1;32m   1193\u001b[0m         \u001b[39mor\u001b[39;00m _global_forward_hooks \u001b[39mor\u001b[39;00m _global_forward_pre_hooks):\n\u001b[0;32m-> 1194\u001b[0m     \u001b[39mreturn\u001b[39;00m forward_call(\u001b[39m*\u001b[39;49m\u001b[39minput\u001b[39;49m, \u001b[39m*\u001b[39;49m\u001b[39m*\u001b[39;49mkwargs)\n\u001b[1;32m   1195\u001b[0m \u001b[39m# Do not call functions when jit is used\u001b[39;00m\n\u001b[1;32m   1196\u001b[0m full_backward_hooks, non_full_backward_hooks \u001b[39m=\u001b[39m [], []\n",
      "File \u001b[0;32m~/Documents/UNI-DTU/6. Semester/Bachelor Projekt/News-Recommendations/LSTUR.py:90\u001b[0m, in \u001b[0;36mUserEncoder.forward\u001b[0;34m(self, users, topic, subtopic, W, src_len)\u001b[0m\n\u001b[1;32m     88\u001b[0m news_embed \u001b[39m=\u001b[39m th\u001b[39m.\u001b[39mzeros(b,n,\u001b[39m500\u001b[39m,device\u001b[39m=\u001b[39m\u001b[39mself\u001b[39m\u001b[39m.\u001b[39mdevice)\n\u001b[1;32m     89\u001b[0m \u001b[39mfor\u001b[39;00m i \u001b[39min\u001b[39;00m \u001b[39mrange\u001b[39m(b):\n\u001b[0;32m---> 90\u001b[0m     news_embed[i] \u001b[39m=\u001b[39m \u001b[39mself\u001b[39;49m\u001b[39m.\u001b[39;49mNewsEncoder(topic[i],subtopic[i], W[i])\n\u001b[1;32m     92\u001b[0m user_embed \u001b[39m=\u001b[39m \u001b[39mself\u001b[39m\u001b[39m.\u001b[39mUserEmbedding(users)\n\u001b[1;32m     93\u001b[0m \u001b[39m# src_len_cpu = src_len.cpu()\u001b[39;00m\n",
      "File \u001b[0;32m~/Documents/UNI-DTU/6. Semester/Bachelor Projekt/News-Recommendations/.venv/lib/python3.9/site-packages/torch/nn/modules/module.py:1194\u001b[0m, in \u001b[0;36mModule._call_impl\u001b[0;34m(self, *input, **kwargs)\u001b[0m\n\u001b[1;32m   1190\u001b[0m \u001b[39m# If we don't have any hooks, we want to skip the rest of the logic in\u001b[39;00m\n\u001b[1;32m   1191\u001b[0m \u001b[39m# this function, and just call forward.\u001b[39;00m\n\u001b[1;32m   1192\u001b[0m \u001b[39mif\u001b[39;00m \u001b[39mnot\u001b[39;00m (\u001b[39mself\u001b[39m\u001b[39m.\u001b[39m_backward_hooks \u001b[39mor\u001b[39;00m \u001b[39mself\u001b[39m\u001b[39m.\u001b[39m_forward_hooks \u001b[39mor\u001b[39;00m \u001b[39mself\u001b[39m\u001b[39m.\u001b[39m_forward_pre_hooks \u001b[39mor\u001b[39;00m _global_backward_hooks\n\u001b[1;32m   1193\u001b[0m         \u001b[39mor\u001b[39;00m _global_forward_hooks \u001b[39mor\u001b[39;00m _global_forward_pre_hooks):\n\u001b[0;32m-> 1194\u001b[0m     \u001b[39mreturn\u001b[39;00m forward_call(\u001b[39m*\u001b[39;49m\u001b[39minput\u001b[39;49m, \u001b[39m*\u001b[39;49m\u001b[39m*\u001b[39;49mkwargs)\n\u001b[1;32m   1195\u001b[0m \u001b[39m# Do not call functions when jit is used\u001b[39;00m\n\u001b[1;32m   1196\u001b[0m full_backward_hooks, non_full_backward_hooks \u001b[39m=\u001b[39m [], []\n",
      "File \u001b[0;32m~/Documents/UNI-DTU/6. Semester/Bachelor Projekt/News-Recommendations/LSTUR.py:68\u001b[0m, in \u001b[0;36mNewsEncoder.forward\u001b[0;34m(self, topic, subtopic, W)\u001b[0m\n\u001b[1;32m     66\u001b[0m \u001b[39mdef\u001b[39;00m \u001b[39mforward\u001b[39m(\u001b[39mself\u001b[39m, topic,subtopic, W):\n\u001b[0;32m---> 68\u001b[0m     topic \u001b[39m=\u001b[39m \u001b[39mself\u001b[39;49m\u001b[39m.\u001b[39;49mTopicEncoder(topic, subtopic)\n\u001b[1;32m     69\u001b[0m     title \u001b[39m=\u001b[39m \u001b[39mself\u001b[39m\u001b[39m.\u001b[39mTitleEncoder(W)\n\u001b[1;32m     72\u001b[0m     \u001b[39mreturn\u001b[39;00m th\u001b[39m.\u001b[39mhstack([topic, title])\n",
      "File \u001b[0;32m~/Documents/UNI-DTU/6. Semester/Bachelor Projekt/News-Recommendations/.venv/lib/python3.9/site-packages/torch/nn/modules/module.py:1194\u001b[0m, in \u001b[0;36mModule._call_impl\u001b[0;34m(self, *input, **kwargs)\u001b[0m\n\u001b[1;32m   1190\u001b[0m \u001b[39m# If we don't have any hooks, we want to skip the rest of the logic in\u001b[39;00m\n\u001b[1;32m   1191\u001b[0m \u001b[39m# this function, and just call forward.\u001b[39;00m\n\u001b[1;32m   1192\u001b[0m \u001b[39mif\u001b[39;00m \u001b[39mnot\u001b[39;00m (\u001b[39mself\u001b[39m\u001b[39m.\u001b[39m_backward_hooks \u001b[39mor\u001b[39;00m \u001b[39mself\u001b[39m\u001b[39m.\u001b[39m_forward_hooks \u001b[39mor\u001b[39;00m \u001b[39mself\u001b[39m\u001b[39m.\u001b[39m_forward_pre_hooks \u001b[39mor\u001b[39;00m _global_backward_hooks\n\u001b[1;32m   1193\u001b[0m         \u001b[39mor\u001b[39;00m _global_forward_hooks \u001b[39mor\u001b[39;00m _global_forward_pre_hooks):\n\u001b[0;32m-> 1194\u001b[0m     \u001b[39mreturn\u001b[39;00m forward_call(\u001b[39m*\u001b[39;49m\u001b[39minput\u001b[39;49m, \u001b[39m*\u001b[39;49m\u001b[39m*\u001b[39;49mkwargs)\n\u001b[1;32m   1195\u001b[0m \u001b[39m# Do not call functions when jit is used\u001b[39;00m\n\u001b[1;32m   1196\u001b[0m full_backward_hooks, non_full_backward_hooks \u001b[39m=\u001b[39m [], []\n",
      "File \u001b[0;32m~/Documents/UNI-DTU/6. Semester/Bachelor Projekt/News-Recommendations/LSTUR.py:51\u001b[0m, in \u001b[0;36mTopicEncoder.forward\u001b[0;34m(self, topic, subtopic)\u001b[0m\n\u001b[1;32m     49\u001b[0m \u001b[39mdef\u001b[39;00m \u001b[39mforward\u001b[39m(\u001b[39mself\u001b[39m, topic, subtopic):\n\u001b[0;32m---> 51\u001b[0m     topic \u001b[39m=\u001b[39m \u001b[39mself\u001b[39;49m\u001b[39m.\u001b[39;49mtopic_embed(topic)\n\u001b[1;32m     52\u001b[0m     subtopic \u001b[39m=\u001b[39m \u001b[39mself\u001b[39m\u001b[39m.\u001b[39msubtopic_embed(subtopic)\n\u001b[1;32m     55\u001b[0m     \u001b[39mreturn\u001b[39;00m th\u001b[39m.\u001b[39mhstack([topic, subtopic])\n",
      "File \u001b[0;32m~/Documents/UNI-DTU/6. Semester/Bachelor Projekt/News-Recommendations/.venv/lib/python3.9/site-packages/torch/nn/modules/module.py:1194\u001b[0m, in \u001b[0;36mModule._call_impl\u001b[0;34m(self, *input, **kwargs)\u001b[0m\n\u001b[1;32m   1190\u001b[0m \u001b[39m# If we don't have any hooks, we want to skip the rest of the logic in\u001b[39;00m\n\u001b[1;32m   1191\u001b[0m \u001b[39m# this function, and just call forward.\u001b[39;00m\n\u001b[1;32m   1192\u001b[0m \u001b[39mif\u001b[39;00m \u001b[39mnot\u001b[39;00m (\u001b[39mself\u001b[39m\u001b[39m.\u001b[39m_backward_hooks \u001b[39mor\u001b[39;00m \u001b[39mself\u001b[39m\u001b[39m.\u001b[39m_forward_hooks \u001b[39mor\u001b[39;00m \u001b[39mself\u001b[39m\u001b[39m.\u001b[39m_forward_pre_hooks \u001b[39mor\u001b[39;00m _global_backward_hooks\n\u001b[1;32m   1193\u001b[0m         \u001b[39mor\u001b[39;00m _global_forward_hooks \u001b[39mor\u001b[39;00m _global_forward_pre_hooks):\n\u001b[0;32m-> 1194\u001b[0m     \u001b[39mreturn\u001b[39;00m forward_call(\u001b[39m*\u001b[39;49m\u001b[39minput\u001b[39;49m, \u001b[39m*\u001b[39;49m\u001b[39m*\u001b[39;49mkwargs)\n\u001b[1;32m   1195\u001b[0m \u001b[39m# Do not call functions when jit is used\u001b[39;00m\n\u001b[1;32m   1196\u001b[0m full_backward_hooks, non_full_backward_hooks \u001b[39m=\u001b[39m [], []\n",
      "File \u001b[0;32m~/Documents/UNI-DTU/6. Semester/Bachelor Projekt/News-Recommendations/.venv/lib/python3.9/site-packages/torch/nn/modules/sparse.py:160\u001b[0m, in \u001b[0;36mEmbedding.forward\u001b[0;34m(self, input)\u001b[0m\n\u001b[1;32m    159\u001b[0m \u001b[39mdef\u001b[39;00m \u001b[39mforward\u001b[39m(\u001b[39mself\u001b[39m, \u001b[39minput\u001b[39m: Tensor) \u001b[39m-\u001b[39m\u001b[39m>\u001b[39m Tensor:\n\u001b[0;32m--> 160\u001b[0m     \u001b[39mreturn\u001b[39;00m F\u001b[39m.\u001b[39;49membedding(\n\u001b[1;32m    161\u001b[0m         \u001b[39minput\u001b[39;49m, \u001b[39mself\u001b[39;49m\u001b[39m.\u001b[39;49mweight, \u001b[39mself\u001b[39;49m\u001b[39m.\u001b[39;49mpadding_idx, \u001b[39mself\u001b[39;49m\u001b[39m.\u001b[39;49mmax_norm,\n\u001b[1;32m    162\u001b[0m         \u001b[39mself\u001b[39;49m\u001b[39m.\u001b[39;49mnorm_type, \u001b[39mself\u001b[39;49m\u001b[39m.\u001b[39;49mscale_grad_by_freq, \u001b[39mself\u001b[39;49m\u001b[39m.\u001b[39;49msparse)\n",
      "File \u001b[0;32m~/Documents/UNI-DTU/6. Semester/Bachelor Projekt/News-Recommendations/.venv/lib/python3.9/site-packages/torch/nn/functional.py:2210\u001b[0m, in \u001b[0;36membedding\u001b[0;34m(input, weight, padding_idx, max_norm, norm_type, scale_grad_by_freq, sparse)\u001b[0m\n\u001b[1;32m   2204\u001b[0m     \u001b[39m# Note [embedding_renorm set_grad_enabled]\u001b[39;00m\n\u001b[1;32m   2205\u001b[0m     \u001b[39m# XXX: equivalent to\u001b[39;00m\n\u001b[1;32m   2206\u001b[0m     \u001b[39m# with torch.no_grad():\u001b[39;00m\n\u001b[1;32m   2207\u001b[0m     \u001b[39m#   torch.embedding_renorm_\u001b[39;00m\n\u001b[1;32m   2208\u001b[0m     \u001b[39m# remove once script supports set_grad_enabled\u001b[39;00m\n\u001b[1;32m   2209\u001b[0m     _no_grad_embedding_renorm_(weight, \u001b[39minput\u001b[39m, max_norm, norm_type)\n\u001b[0;32m-> 2210\u001b[0m \u001b[39mreturn\u001b[39;00m torch\u001b[39m.\u001b[39;49membedding(weight, \u001b[39minput\u001b[39;49m, padding_idx, scale_grad_by_freq, sparse)\n",
      "\u001b[0;31mRuntimeError\u001b[0m: Expected tensor for argument #1 'indices' to have one of the following scalar types: Long, Int; but got CPUBoolType instead (while checking arguments for embedding)"
     ]
    }
   ],
   "source": [
    "Validation = ValidateModel(data_loader = load_batch, data = User_vali, batch_size=100, metrics = ['MRR','ROC_AUC'], device=device,train=False)\n",
    "\n",
    "Validation.get_metrics(LSTUR_con_module, 10)"
   ]
  },
  {
   "cell_type": "code",
   "execution_count": 3,
   "metadata": {},
   "outputs": [
    {
     "name": "stdout",
     "output_type": "stream",
     "text": [
      "Memory: 0.0 GB\n",
      "tensor(5.7204, grad_fn=<NllLossBackward0>)\n",
      "Validation\n",
      "tensor([0.0476, 0.1429, 1.0000, 0.3333, 0.5000, 0.0769, 0.5000, 0.0065, 0.1429,\n",
      "        0.0556, 0.0270, 0.0455, 0.0667, 0.0065, 0.0476, 0.0051, 0.5000, 0.0052,\n",
      "        0.2500, 0.1429])\n",
      "Matrics Batch: AUC: 0.5612026862026862 MRR: 0.19510897994041443\n",
      "Memory: 0.0 GB\n",
      "AUC: (0.5612026862026862, tensor(0.1951))\n",
      "Memory: 0.0 GB\n",
      "tensor(7.0630, grad_fn=<NllLossBackward0>)\n",
      "Validation\n",
      "tensor([0.0036, 0.1667, 0.1667, 0.0909, 0.0034, 0.3333, 0.0714, 0.0071, 0.0093,\n",
      "        0.0312, 0.0667, 0.1429, 1.0000, 0.1667, 0.0154, 0.1429, 0.2500, 0.2000,\n",
      "        0.1667, 0.0769])\n",
      "Matrics Batch: AUC: 0.6203125 MRR: 0.1555880457162857\n",
      "Memory: 0.0 GB\n",
      "AUC: (0.6203125, tensor(0.1556))\n"
     ]
    }
   ],
   "source": [
    "BatchSize = 20\n",
    "batches = 1\n",
    "\n",
    "model = LSTUR_con_module.to(device)\n",
    "loss_fn = nn.CrossEntropyLoss()\n",
    "optimizer = optim.Adam(model.parameters(), lr=0.001)\n",
    "Softmax = nn.Softmax(dim=1)\n",
    "Validation = ValidateModel(data_loader = load_batch, data = User_vali, batch_size=BatchSize, metrics = ['MRR','ROC_AUC'], device=device,train=False)\n",
    "\n",
    "AUC = []\n",
    "MRR = []\n",
    "losses = []\n",
    "\n",
    "for epoch in range(2):\n",
    "\n",
    "    BatchLoader = load_batch(UserData, batch_size=BatchSize,train = True, device=device)\n",
    "\n",
    "    for _ in range(batches):\n",
    "        User_en, Category, Subcategory, History_tensor, history_len, Category_Impressions, Subcategory_Impressions, Impressions_tensor, Impressions_len, Clicked = BatchLoader.__next__()\n",
    "\n",
    "        optimizer.zero_grad()\n",
    "\n",
    "        output = model(User_en, Category, Subcategory, History_tensor, history_len, Category_Impressions, Subcategory_Impressions, Impressions_tensor)\n",
    "\n",
    "        loss = loss_fn(output, Clicked)\n",
    "        loss.backward()\n",
    "        optimizer.step()\n",
    "        \n",
    "        losses.append(loss.item())\n",
    "\n",
    "        print(f'Memory: {th.cuda.memory_reserved()/(10**9)} GB')\n",
    "        print(loss)\n",
    "        \n",
    "    print(\"Validation\")\n",
    "    Validation = ValidateModel(data_loader = load_batch, data = User_vali, batch_size=BatchSize, metrics = ['MRR','ROC_AUC'], device=device,train=False)\n",
    "    AUC_score, MRR_score = Validation.get_metrics(model, batches=1)\n",
    "    print(f'Memory: {th.cuda.memory_reserved()/(10**9)} GB')\n",
    "    AUC.append(AUC_score)\n",
    "    MRR.append(MRR_score)\n",
    "\n",
    "\n",
    "\n",
    "\n",
    "\n",
    "    print(f\"AUC: {AUC_score} MRR: {MRR_score}\")\n",
    "\n",
    "\n"
   ]
  },
  {
   "cell_type": "code",
   "execution_count": 7,
   "metadata": {},
   "outputs": [],
   "source": [
    "pred = Softmax(output)"
   ]
  },
  {
   "cell_type": "code",
   "execution_count": 63,
   "metadata": {},
   "outputs": [],
   "source": [
    "def mean_reciprocal_rank( y_true, y_score):\n",
    "        N,n_classes = y_score.shape\n",
    "        order = th.topk(y_score,k=n_classes).indices\n",
    "        rank = th.take(order,y_true) +1\n",
    "        rr_score = 1 / rank\n",
    "        print(rr_score)\n",
    "        return rr_score.sum()/ N"
   ]
  },
  {
   "cell_type": "code",
   "execution_count": null,
   "metadata": {},
   "outputs": [],
   "source": []
  },
  {
   "cell_type": "code",
   "execution_count": 47,
   "metadata": {},
   "outputs": [
    {
     "data": {
      "text/plain": [
       "tensor([False, False, False, False, False])"
      ]
     },
     "execution_count": 47,
     "metadata": {},
     "output_type": "execute_result"
    }
   ],
   "source": [
    "pred[0][1] > pred[0]"
   ]
  },
  {
   "cell_type": "code",
   "execution_count": 34,
   "metadata": {},
   "outputs": [],
   "source": [
    "import numpy as np"
   ]
  },
  {
   "cell_type": "code",
   "execution_count": 48,
   "metadata": {},
   "outputs": [],
   "source": [
    "order = th.topk(pred , 5, dim=1).indices\n",
    "rank = th.take(Clicked, order)"
   ]
  },
  {
   "cell_type": "code",
   "execution_count": 52,
   "metadata": {},
   "outputs": [
    {
     "data": {
      "text/plain": [
       "tensor([4, 0, 3, 1, 1, 0, 1, 4, 4, 4, 3, 2, 2, 3, 3, 3, 2, 1, 3, 4, 1, 0, 4, 4,\n",
       "        2, 2, 3, 3, 1, 0, 3, 2, 3, 4, 3, 4, 0, 3, 4, 2, 1, 3, 1, 1, 0, 4, 4, 1,\n",
       "        1, 0, 4, 3, 2, 3, 2, 4, 4, 4, 0, 0, 0, 4, 0, 1, 0, 2, 2, 0, 4, 1, 0, 1,\n",
       "        2, 3, 3, 2, 2, 1, 4, 4, 2, 1, 4, 3, 4, 1, 0, 1, 4, 4, 3, 1, 2, 3, 3, 3,\n",
       "        4, 4, 4, 0])"
      ]
     },
     "execution_count": 52,
     "metadata": {},
     "output_type": "execute_result"
    }
   ],
   "source": [
    "th.take(order, Clicked)"
   ]
  },
  {
   "cell_type": "code",
   "execution_count": 64,
   "metadata": {},
   "outputs": [
    {
     "name": "stdout",
     "output_type": "stream",
     "text": [
      "tensor([0.2000, 1.0000, 0.2500, 0.5000, 0.5000, 1.0000, 0.5000, 0.2000, 0.2000,\n",
      "        0.2000, 0.2500, 0.3333, 0.3333, 0.2500, 0.2500, 0.2500, 0.3333, 0.5000,\n",
      "        0.2500, 0.2000, 0.5000, 1.0000, 0.2000, 0.2000, 0.3333, 0.3333, 0.2500,\n",
      "        0.2500, 0.5000, 1.0000, 0.2500, 0.3333, 0.2500, 0.2000, 0.2500, 0.2000,\n",
      "        1.0000, 0.2500, 0.2000, 0.3333, 0.5000, 0.2500, 0.5000, 0.5000, 1.0000,\n",
      "        0.2000, 0.2000, 0.5000, 0.5000, 1.0000, 0.2000, 0.2500, 0.3333, 0.2500,\n",
      "        0.3333, 0.2000, 0.2000, 0.2000, 1.0000, 1.0000, 1.0000, 0.2000, 1.0000,\n",
      "        0.5000, 1.0000, 0.3333, 0.3333, 1.0000, 0.2000, 0.5000, 1.0000, 0.5000,\n",
      "        0.3333, 0.2500, 0.2500, 0.3333, 0.3333, 0.5000, 0.2000, 0.2000, 0.3333,\n",
      "        0.5000, 0.2000, 0.2500, 0.2000, 0.5000, 1.0000, 0.5000, 0.2000, 0.2000,\n",
      "        0.2500, 0.5000, 0.3333, 0.2500, 0.2500, 0.2500, 0.2000, 0.2000, 0.2000,\n",
      "        1.0000])\n"
     ]
    },
    {
     "data": {
      "text/plain": [
       "tensor(0.4173)"
      ]
     },
     "execution_count": 64,
     "metadata": {},
     "output_type": "execute_result"
    }
   ],
   "source": [
    "mean_reciprocal_rank(Clicked,pred)"
   ]
  },
  {
   "cell_type": "code",
   "execution_count": 8,
   "metadata": {},
   "outputs": [
    {
     "data": {
      "image/png": "[encoded data removed]",
      "text/plain": [
       "<Figure size 1000x500 with 1 Axes>"
      ]
     },
     "metadata": {},
     "output_type": "display_data"
    }
   ],
   "source": [
    "import matplotlib.pyplot as plt\n",
    "\n",
    "fig, axs = plt.subplots(1, 1, figsize=(10, 5))\n",
    "\n",
    "axs.plot(AUC, label='AUC')\n",
    "# axs.plot(losses, label='Loss')\n",
    "axs.set_title('AUC')\n",
    "axs.legend()\n",
    "plt.show()\n"
   ]
  },
  {
   "cell_type": "code",
   "execution_count": null,
   "metadata": {},
   "outputs": [],
   "source": []
  }
 ],
 "metadata": {
  "kernelspec": {
   "display_name": "Python 3",
   "language": "python",
   "name": "python3"
  },
  "language_info": {
   "codemirror_mode": {
    "name": "ipython",
    "version": 3
   },
   "file_extension": ".py",
   "mimetype": "text/x-python",
   "name": "python",
   "nbconvert_exporter": "python",
   "pygments_lexer": "ipython3",
   "version": "3.9.16"
  },
  "orig_nbformat": 4,
  "vscode": {
   "interpreter": {
    "hash": "f2161e111f783a6322a6ae262a47844d9386d7dfb61a436620c434d93864cb0f"
   }
  }
 },
 "nbformat": 4,
 "nbformat_minor": 2
}
