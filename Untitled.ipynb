{
 "cells": [
  {
   "cell_type": "code",
   "execution_count": 1,
   "metadata": {},
   "outputs": [
    {
     "name": "stderr",
     "output_type": "stream",
     "text": [
      "/Users/magnusharder/Documents/UNI-DTU/6. Semester/Bachelor Projekt/News-Recommendations/.venv/lib/python3.9/site-packages/tqdm/auto.py:22: TqdmWarning: IProgress not found. Please update jupyter and ipywidgets. See https://ipywidgets.readthedocs.io/en/stable/user_install.html\n",
      "  from .autonotebook import tqdm as notebook_tqdm\n"
     ]
    }
   ],
   "source": [
    "import torch as th\n",
    "import torch.nn as nn\n",
    "import torch.nn.functional as F\n",
    "\n",
    "\n",
    "\n",
    "# Define test gru\n",
    "\n",
    "class TestGRU(nn.Module):\n",
    "    def __init__(self, input_size, hidden_size, num_layers, batch_size, device):\n",
    "        super(TestGRU, self).__init__()\n",
    "        self.input_size = input_size\n",
    "        self.hidden_size = hidden_size\n",
    "        self.num_layers = num_layers\n",
    "        self.batch_size = batch_size\n",
    "        self.device = device\n",
    "        self.gru = nn.GRU(input_size, hidden_size, num_layers, batch_first=True)\n",
    "        self.fc = nn.Linear(hidden_size, 1)\n",
    "        \n",
    "    def forward(self, x):\n",
    "        packed_x = nn.utils.rnn.pack_padded_sequence(x, [self.input_size]*self.batch_size, batch_first=True)\n",
    "        out, _ = self.gru(x)\n",
    "        out = self.fc(out[:, -1, :])\n",
    "        return out"
   ]
  },
  {
   "cell_type": "code",
   "execution_count": 69,
   "id": "eebeef7e",
   "metadata": {},
   "outputs": [],
   "source": [
    "#  Batches, N_News, News_Dim\n",
    "GRU = TestGRU(4, 3, 1, 5, \"cpu\")\n",
    "\n",
    "Test_Tensor = th.rand(5, 5, 4)\n",
    "\n",
    "\n",
    "\n",
    "\n",
    "packed_x = nn.utils.rnn.pack_padded_sequence(Test_Tensor, [5,2,3,1,5],enforce_sorted=False, batch_first=True)\n",
    "\n"
   ]
  },
  {
   "cell_type": "code",
   "execution_count": 70,
   "id": "093c1d3b",
   "metadata": {},
   "outputs": [
    {
     "data": {
      "text/plain": [
       "tensor([[[ 0.1408,  0.1636, -0.2513],\n",
       "         [-0.0439, -0.0386, -0.0978],\n",
       "         [ 0.0847,  0.0927, -0.2051],\n",
       "         [ 0.0711,  0.0390, -0.2364],\n",
       "         [ 0.0534,  0.0197, -0.2904]]], grad_fn=<IndexSelectBackward0>)"
      ]
     },
     "execution_count": 70,
     "metadata": {},
     "output_type": "execute_result"
    }
   ],
   "source": [
    "GRU.gru(packed_x)[1]"
   ]
  },
  {
   "cell_type": "code",
   "execution_count": 71,
   "id": "384b1deb",
   "metadata": {},
   "outputs": [],
   "source": [
    "Test_Tensor[1][2:] = 0\n",
    "Test_Tensor[2][3:] = 0\n",
    "Test_Tensor[3][1:] = 0"
   ]
  },
  {
   "cell_type": "code",
   "execution_count": 72,
   "id": "aed85da6",
   "metadata": {},
   "outputs": [
    {
     "data": {
      "text/plain": [
       "tensor([[[ 0.1408,  0.1636, -0.2513],\n",
       "         [-0.0439, -0.0386, -0.0978],\n",
       "         [ 0.0847,  0.0927, -0.2051],\n",
       "         [ 0.0711,  0.0390, -0.2364],\n",
       "         [ 0.0534,  0.0197, -0.2904]]], grad_fn=<IndexSelectBackward0>)"
      ]
     },
     "execution_count": 72,
     "metadata": {},
     "output_type": "execute_result"
    }
   ],
   "source": [
    "GRU.gru(packed_x)[1]"
   ]
  },
  {
   "cell_type": "code",
   "execution_count": 65,
   "id": "12502c4b",
   "metadata": {},
   "outputs": [
    {
     "data": {
      "text/plain": [
       "tensor([[[0.4968, 0.9074, 0.7641, 0.5167],\n",
       "         [0.1095, 0.4089, 0.2270, 0.8398],\n",
       "         [0.0643, 0.9036, 0.4243, 0.8286],\n",
       "         [0.2899, 0.5065, 0.7848, 0.1191],\n",
       "         [0.4228, 0.6286, 0.2827, 0.3728]],\n",
       "\n",
       "        [[0.3196, 0.3470, 0.7244, 0.8949],\n",
       "         [0.5648, 0.6300, 0.6907, 0.0145],\n",
       "         [0.0000, 0.0000, 0.0000, 0.0000],\n",
       "         [0.0000, 0.0000, 0.0000, 0.0000],\n",
       "         [0.0000, 0.0000, 0.0000, 0.0000]],\n",
       "\n",
       "        [[0.9583, 0.8571, 0.8246, 0.4987],\n",
       "         [0.9910, 0.1471, 0.1535, 0.8864],\n",
       "         [0.6119, 0.9248, 0.8020, 0.0166],\n",
       "         [0.0000, 0.0000, 0.0000, 0.0000],\n",
       "         [0.0000, 0.0000, 0.0000, 0.0000]],\n",
       "\n",
       "        [[0.8632, 0.3661, 0.1839, 0.3337],\n",
       "         [0.0000, 0.0000, 0.0000, 0.0000],\n",
       "         [0.0000, 0.0000, 0.0000, 0.0000],\n",
       "         [0.0000, 0.0000, 0.0000, 0.0000],\n",
       "         [0.0000, 0.0000, 0.0000, 0.0000]],\n",
       "\n",
       "        [[0.0221, 0.6323, 0.1821, 0.6241],\n",
       "         [0.2871, 0.2792, 0.8421, 0.0663],\n",
       "         [0.2824, 0.8354, 0.1569, 0.7606],\n",
       "         [0.7389, 0.8038, 0.8408, 0.6870],\n",
       "         [0.7945, 0.6700, 0.4113, 0.1188]]])"
      ]
     },
     "execution_count": 65,
     "metadata": {},
     "output_type": "execute_result"
    }
   ],
   "source": [
    "Test_Tensor"
   ]
  },
  {
   "cell_type": "code",
   "execution_count": 67,
   "id": "4d609a24",
   "metadata": {},
   "outputs": [],
   "source": [
    "Packed_out,hidden_ou = GRU.gru(packed_x)"
   ]
  },
  {
   "cell_type": "code",
   "execution_count": 68,
   "id": "1f6ed01b",
   "metadata": {},
   "outputs": [
    {
     "data": {
      "text/plain": [
       "tensor([[[-0.3603,  0.3884, -0.2520],\n",
       "         [-0.2859,  0.2405, -0.2318],\n",
       "         [-0.4036,  0.2142, -0.2802],\n",
       "         [-0.2391, -0.0267, -0.0364],\n",
       "         [-0.4508,  0.3043, -0.3038]]], grad_fn=<IndexSelectBackward0>)"
      ]
     },
     "execution_count": 68,
     "metadata": {},
     "output_type": "execute_result"
    }
   ],
   "source": [
    "hidden_ou"
   ]
  },
  {
   "cell_type": "code",
   "execution_count": 66,
   "id": "4e573ffe",
   "metadata": {},
   "outputs": [
    {
     "data": {
      "text/plain": [
       "tensor([[[-0.3603,  0.3884, -0.2520],\n",
       "         [ 0.0824,  0.1847,  0.1021],\n",
       "         [ 0.0241,  0.2054,  0.0413],\n",
       "         [ 0.1241,  0.1329,  0.1433],\n",
       "         [-0.4508,  0.3043, -0.3038]]], grad_fn=<StackBackward0>)"
      ]
     },
     "execution_count": 66,
     "metadata": {},
     "output_type": "execute_result"
    }
   ],
   "source": [
    "GRU.gru(Test_Tensor)[1]"
   ]
  },
  {
   "cell_type": "code",
   "execution_count": null,
   "id": "ffe8bf41",
   "metadata": {},
   "outputs": [],
   "source": []
  },
  {
   "cell_type": "code",
   "execution_count": null,
   "id": "83aaedc9",
   "metadata": {},
   "outputs": [],
   "source": []
  },
  {
   "cell_type": "code",
   "execution_count": null,
   "id": "94450cc4",
   "metadata": {},
   "outputs": [],
   "source": []
  },
  {
   "cell_type": "code",
   "execution_count": null,
   "id": "5c6f4cbe",
   "metadata": {},
   "outputs": [],
   "source": [
    "nn.utils.rnn.pad_packed_sequence(packed_news, batch_first=True)"
   ]
  },
  {
   "cell_type": "code",
   "execution_count": null,
   "id": "0d8f29c1",
   "metadata": {},
   "outputs": [],
   "source": []
  }
 ],
 "metadata": {
  "kernelspec": {
   "display_name": ".venv",
   "language": "python",
   "name": "python3"
  },
  "language_info": {
   "codemirror_mode": {
    "name": "ipython",
    "version": 3
   },
   "file_extension": ".py",
   "mimetype": "text/x-python",
   "name": "python",
   "nbconvert_exporter": "python",
   "pygments_lexer": "ipython3",
   "version": "3.9.16"
  }
 },
 "nbformat": 4,
 "nbformat_minor": 5
}
