{
 "cells": [
  {
   "cell_type": "code",
   "execution_count": 2,
   "metadata": {},
   "outputs": [
    {
     "name": "stdout",
     "output_type": "stream",
     "text": [
      "Data contains 17 topics and 264 subtopics\n"
     ]
    }
   ],
   "source": [
    "# Description: Load tsv file\n",
    "\n",
    "# Import libraries\n",
    "import pandas as pd\n",
    "\n",
    "\n",
    "# Load tsv file\n",
    "News = pd.read_csv('MINDsmall_train/news.tsv', sep='\\t', header=None)\n",
    "News.columns = ['news_id', 'category', 'subcategory', 'title', 'abstract', 'url', 'title_entities', 'abstract_entities']\n",
    "\n",
    "User = pd.read_csv('MINDsmall_train/behaviors.tsv', sep='\\t', header=None)\n",
    "User.columns = ['impression_id', 'user_id', 'time', 'history', 'impressions']\n",
    "\n",
    "topic_size = News['category'].nunique()\n",
    "subtopic_size = News['subcategory'].nunique()\n",
    "\n",
    "print(f\"Data contains {topic_size} topics and {subtopic_size} subtopics\")"
   ]
  },
  {
   "cell_type": "code",
   "execution_count": 3,
   "metadata": {},
   "outputs": [
    {
     "name": "stderr",
     "output_type": "stream",
     "text": [
      "C:\\Users\\Nikolaj\\AppData\\Local\\Packages\\PythonSoftwareFoundation.Python.3.9_qbz5n2kfra8p0\\LocalCache\\local-packages\\Python39\\site-packages\\tqdm\\auto.py:22: TqdmWarning: IProgress not found. Please update jupyter and ipywidgets. See https://ipywidgets.readthedocs.io/en/stable/user_install.html\n",
      "  from .autonotebook import tqdm as notebook_tqdm\n"
     ]
    }
   ],
   "source": [
    "from LSTUR import NewsEncoder, TitleEncoder, TopicEncoder, GloVe\n",
    "import torch as th\n",
    "from torchtext.data.utils import get_tokenizer\n",
    "\n",
    "tokenizer = get_tokenizer('basic_english')\n",
    "\n",
    "topic_embedding_dim = 100\n",
    "subtopic_embedding_dim = 100\n",
    "word_size = 100\n",
    "\n",
    "\n",
    "NewsEncoderModule = NewsEncoder(100, 100, topic_size, subtopic_size, 10000)\n",
    "TitleEncoderModule = TitleEncoder(100)\n",
    "TopicEncoderModule = TopicEncoder(100, 100, topic_size, subtopic_size)\n",
    "\n",
    "topic = th.tensor([0],dtype=th.int32)\n",
    "subtopic = th.tensor([0],dtype=th.int32)\n",
    "\n",
    "title = tokenizer(News['title'][0])\n",
    "W = GloVe.get_vecs_by_tokens(title)"
   ]
  },
  {
   "cell_type": "code",
   "execution_count": 4,
   "metadata": {},
   "outputs": [
    {
     "name": "stdout",
     "output_type": "stream",
     "text": [
      "torch.Size([51282])\n",
      "torch.Size([51282])\n"
     ]
    }
   ],
   "source": [
    "# Encode categories and subcategories:\n",
    "categories = News['category'].unique()\n",
    "subcategories = News['subcategory'].unique()\n",
    "\n",
    "test = [i for i in range(len(categories))]\n",
    "test2 = [i for i in range(len(subcategories))]\n",
    "\n",
    "# Add encodings to dict\n",
    "res = {}\n",
    "for cat in categories:\n",
    "    for value in test:\n",
    "        res[cat] = value\n",
    "        test.remove(value)\n",
    "        break\n",
    "\n",
    "\n",
    "res2 = {}\n",
    "for subcat in subcategories:\n",
    "    for value in test2:\n",
    "        res2[subcat] = value\n",
    "        test2.remove(value)\n",
    "        break\n",
    "\n",
    "\n",
    "# Replace column with encodings:\n",
    "C = th.tensor(News['category'].replace(res))\n",
    "SC = th.tensor(News['subcategory'].replace(res2))\n",
    "\n",
    "print(C.shape)\n",
    "print(SC.shape)\n",
    "\n",
    "\n"
   ]
  },
  {
   "cell_type": "code",
   "execution_count": 99,
   "metadata": {},
   "outputs": [],
   "source": [
    "# Get titles lengths\n",
    "import numpy as np\n",
    "from torch.nn.utils.rnn import pad_sequence\n",
    "\n",
    "lengths = th.tensor([len(tokenizer(News['title'][i])) for i in range(News['title'].size)])\n",
    "\n",
    "\n",
    "# Pad titles\n",
    "maxlength = max(lengths)\n",
    "padlengths = (maxlength-lengths).tolist()\n",
    "padtitles = [tokenizer(News[\"title\"][i] + \" <Pad>\"*padlengths[i]) for i in range(len(padlengths))]\n",
    "\n",
    "\n",
    "\n",
    "# Embed titles\n",
    "Article_embedding = th.zeros(len(padtitles),maxlength,300)\n",
    "i = 0\n",
    "for t in padtitles:\n",
    "    Article_embedding[i] = GloVe.get_vecs_by_tokens(t)\n",
    "    i+=1\n",
    "\n",
    "\n"
   ]
  },
  {
   "cell_type": "code",
   "execution_count": 114,
   "metadata": {},
   "outputs": [
    {
     "name": "stdout",
     "output_type": "stream",
     "text": [
      "51282\n",
      "torch.Size([64, 300])\n"
     ]
    }
   ],
   "source": [
    "# Dictionary of articles from their ID's\n",
    "newsid = News['news_id']\n",
    "article_dict = {newsid[i]:Article_embedding[i] for i in range(len(padtitles))}\n",
    "\n",
    "print(len(article_dict))\n",
    "print(article_dict[\"N55189\"].shape)\n"
   ]
  },
  {
   "cell_type": "code",
   "execution_count": 127,
   "metadata": {},
   "outputs": [
    {
     "ename": "KeyboardInterrupt",
     "evalue": "",
     "output_type": "error",
     "traceback": [
      "\u001b[1;31m---------------------------------------------------------------------------\u001b[0m",
      "\u001b[1;31mKeyboardInterrupt\u001b[0m                         Traceback (most recent call last)",
      "Cell \u001b[1;32mIn[127], line 18\u001b[0m\n\u001b[0;32m     13\u001b[0m         \u001b[39mbreak\u001b[39;00m\n\u001b[0;32m     17\u001b[0m \u001b[39m# Replace column with encodings:\u001b[39;00m\n\u001b[1;32m---> 18\u001b[0m U \u001b[39m=\u001b[39m th\u001b[39m.\u001b[39mtensor(User[\u001b[39m'\u001b[39;49m\u001b[39muser_id\u001b[39;49m\u001b[39m'\u001b[39;49m]\u001b[39m.\u001b[39;49mreplace(userid_dict))\n\u001b[0;32m     19\u001b[0m U\u001b[39m.\u001b[39mshape\n",
      "File \u001b[1;32m~\\AppData\\Local\\Packages\\PythonSoftwareFoundation.Python.3.9_qbz5n2kfra8p0\\LocalCache\\local-packages\\Python39\\site-packages\\pandas\\util\\_decorators.py:331\u001b[0m, in \u001b[0;36mdeprecate_nonkeyword_arguments.<locals>.decorate.<locals>.wrapper\u001b[1;34m(*args, **kwargs)\u001b[0m\n\u001b[0;32m    325\u001b[0m \u001b[39mif\u001b[39;00m \u001b[39mlen\u001b[39m(args) \u001b[39m>\u001b[39m num_allow_args:\n\u001b[0;32m    326\u001b[0m     warnings\u001b[39m.\u001b[39mwarn(\n\u001b[0;32m    327\u001b[0m         msg\u001b[39m.\u001b[39mformat(arguments\u001b[39m=\u001b[39m_format_argument_list(allow_args)),\n\u001b[0;32m    328\u001b[0m         \u001b[39mFutureWarning\u001b[39;00m,\n\u001b[0;32m    329\u001b[0m         stacklevel\u001b[39m=\u001b[39mfind_stack_level(),\n\u001b[0;32m    330\u001b[0m     )\n\u001b[1;32m--> 331\u001b[0m \u001b[39mreturn\u001b[39;00m func(\u001b[39m*\u001b[39margs, \u001b[39m*\u001b[39m\u001b[39m*\u001b[39mkwargs)\n",
      "File \u001b[1;32m~\\AppData\\Local\\Packages\\PythonSoftwareFoundation.Python.3.9_qbz5n2kfra8p0\\LocalCache\\local-packages\\Python39\\site-packages\\pandas\\core\\series.py:5380\u001b[0m, in \u001b[0;36mSeries.replace\u001b[1;34m(self, to_replace, value, inplace, limit, regex, method)\u001b[0m\n\u001b[0;32m   5362\u001b[0m \u001b[39m@deprecate_nonkeyword_arguments\u001b[39m(\n\u001b[0;32m   5363\u001b[0m     version\u001b[39m=\u001b[39m\u001b[39mNone\u001b[39;00m, allowed_args\u001b[39m=\u001b[39m[\u001b[39m\"\u001b[39m\u001b[39mself\u001b[39m\u001b[39m\"\u001b[39m, \u001b[39m\"\u001b[39m\u001b[39mto_replace\u001b[39m\u001b[39m\"\u001b[39m, \u001b[39m\"\u001b[39m\u001b[39mvalue\u001b[39m\u001b[39m\"\u001b[39m]\n\u001b[0;32m   5364\u001b[0m )\n\u001b[1;32m   (...)\u001b[0m\n\u001b[0;32m   5378\u001b[0m     method: Literal[\u001b[39m\"\u001b[39m\u001b[39mpad\u001b[39m\u001b[39m\"\u001b[39m, \u001b[39m\"\u001b[39m\u001b[39mffill\u001b[39m\u001b[39m\"\u001b[39m, \u001b[39m\"\u001b[39m\u001b[39mbfill\u001b[39m\u001b[39m\"\u001b[39m] \u001b[39m|\u001b[39m lib\u001b[39m.\u001b[39mNoDefault \u001b[39m=\u001b[39m lib\u001b[39m.\u001b[39mno_default,\n\u001b[0;32m   5379\u001b[0m ) \u001b[39m-\u001b[39m\u001b[39m>\u001b[39m Series \u001b[39m|\u001b[39m \u001b[39mNone\u001b[39;00m:\n\u001b[1;32m-> 5380\u001b[0m     \u001b[39mreturn\u001b[39;00m \u001b[39msuper\u001b[39;49m()\u001b[39m.\u001b[39;49mreplace(\n\u001b[0;32m   5381\u001b[0m         to_replace\u001b[39m=\u001b[39;49mto_replace,\n\u001b[0;32m   5382\u001b[0m         value\u001b[39m=\u001b[39;49mvalue,\n\u001b[0;32m   5383\u001b[0m         inplace\u001b[39m=\u001b[39;49minplace,\n\u001b[0;32m   5384\u001b[0m         limit\u001b[39m=\u001b[39;49mlimit,\n\u001b[0;32m   5385\u001b[0m         regex\u001b[39m=\u001b[39;49mregex,\n\u001b[0;32m   5386\u001b[0m         method\u001b[39m=\u001b[39;49mmethod,\n\u001b[0;32m   5387\u001b[0m     )\n",
      "File \u001b[1;32m~\\AppData\\Local\\Packages\\PythonSoftwareFoundation.Python.3.9_qbz5n2kfra8p0\\LocalCache\\local-packages\\Python39\\site-packages\\pandas\\util\\_decorators.py:331\u001b[0m, in \u001b[0;36mdeprecate_nonkeyword_arguments.<locals>.decorate.<locals>.wrapper\u001b[1;34m(*args, **kwargs)\u001b[0m\n\u001b[0;32m    325\u001b[0m \u001b[39mif\u001b[39;00m \u001b[39mlen\u001b[39m(args) \u001b[39m>\u001b[39m num_allow_args:\n\u001b[0;32m    326\u001b[0m     warnings\u001b[39m.\u001b[39mwarn(\n\u001b[0;32m    327\u001b[0m         msg\u001b[39m.\u001b[39mformat(arguments\u001b[39m=\u001b[39m_format_argument_list(allow_args)),\n\u001b[0;32m    328\u001b[0m         \u001b[39mFutureWarning\u001b[39;00m,\n\u001b[0;32m    329\u001b[0m         stacklevel\u001b[39m=\u001b[39mfind_stack_level(),\n\u001b[0;32m    330\u001b[0m     )\n\u001b[1;32m--> 331\u001b[0m \u001b[39mreturn\u001b[39;00m func(\u001b[39m*\u001b[39margs, \u001b[39m*\u001b[39m\u001b[39m*\u001b[39mkwargs)\n",
      "File \u001b[1;32m~\\AppData\\Local\\Packages\\PythonSoftwareFoundation.Python.3.9_qbz5n2kfra8p0\\LocalCache\\local-packages\\Python39\\site-packages\\pandas\\core\\generic.py:7188\u001b[0m, in \u001b[0;36mNDFrame.replace\u001b[1;34m(self, to_replace, value, inplace, limit, regex, method)\u001b[0m\n\u001b[0;32m   7185\u001b[0m     \u001b[39melse\u001b[39;00m:\n\u001b[0;32m   7186\u001b[0m         to_replace, value \u001b[39m=\u001b[39m keys, values\n\u001b[1;32m-> 7188\u001b[0m     \u001b[39mreturn\u001b[39;00m \u001b[39mself\u001b[39;49m\u001b[39m.\u001b[39;49mreplace(\n\u001b[0;32m   7189\u001b[0m         to_replace, value, inplace\u001b[39m=\u001b[39;49minplace, limit\u001b[39m=\u001b[39;49mlimit, regex\u001b[39m=\u001b[39;49mregex\n\u001b[0;32m   7190\u001b[0m     )\n\u001b[0;32m   7191\u001b[0m \u001b[39melse\u001b[39;00m:\n\u001b[0;32m   7192\u001b[0m \n\u001b[0;32m   7193\u001b[0m     \u001b[39m# need a non-zero len on all axes\u001b[39;00m\n\u001b[0;32m   7194\u001b[0m     \u001b[39mif\u001b[39;00m \u001b[39mnot\u001b[39;00m \u001b[39mself\u001b[39m\u001b[39m.\u001b[39msize:\n",
      "File \u001b[1;32m~\\AppData\\Local\\Packages\\PythonSoftwareFoundation.Python.3.9_qbz5n2kfra8p0\\LocalCache\\local-packages\\Python39\\site-packages\\pandas\\util\\_decorators.py:331\u001b[0m, in \u001b[0;36mdeprecate_nonkeyword_arguments.<locals>.decorate.<locals>.wrapper\u001b[1;34m(*args, **kwargs)\u001b[0m\n\u001b[0;32m    325\u001b[0m \u001b[39mif\u001b[39;00m \u001b[39mlen\u001b[39m(args) \u001b[39m>\u001b[39m num_allow_args:\n\u001b[0;32m    326\u001b[0m     warnings\u001b[39m.\u001b[39mwarn(\n\u001b[0;32m    327\u001b[0m         msg\u001b[39m.\u001b[39mformat(arguments\u001b[39m=\u001b[39m_format_argument_list(allow_args)),\n\u001b[0;32m    328\u001b[0m         \u001b[39mFutureWarning\u001b[39;00m,\n\u001b[0;32m    329\u001b[0m         stacklevel\u001b[39m=\u001b[39mfind_stack_level(),\n\u001b[0;32m    330\u001b[0m     )\n\u001b[1;32m--> 331\u001b[0m \u001b[39mreturn\u001b[39;00m func(\u001b[39m*\u001b[39margs, \u001b[39m*\u001b[39m\u001b[39m*\u001b[39mkwargs)\n",
      "File \u001b[1;32m~\\AppData\\Local\\Packages\\PythonSoftwareFoundation.Python.3.9_qbz5n2kfra8p0\\LocalCache\\local-packages\\Python39\\site-packages\\pandas\\core\\series.py:5380\u001b[0m, in \u001b[0;36mSeries.replace\u001b[1;34m(self, to_replace, value, inplace, limit, regex, method)\u001b[0m\n\u001b[0;32m   5362\u001b[0m \u001b[39m@deprecate_nonkeyword_arguments\u001b[39m(\n\u001b[0;32m   5363\u001b[0m     version\u001b[39m=\u001b[39m\u001b[39mNone\u001b[39;00m, allowed_args\u001b[39m=\u001b[39m[\u001b[39m\"\u001b[39m\u001b[39mself\u001b[39m\u001b[39m\"\u001b[39m, \u001b[39m\"\u001b[39m\u001b[39mto_replace\u001b[39m\u001b[39m\"\u001b[39m, \u001b[39m\"\u001b[39m\u001b[39mvalue\u001b[39m\u001b[39m\"\u001b[39m]\n\u001b[0;32m   5364\u001b[0m )\n\u001b[1;32m   (...)\u001b[0m\n\u001b[0;32m   5378\u001b[0m     method: Literal[\u001b[39m\"\u001b[39m\u001b[39mpad\u001b[39m\u001b[39m\"\u001b[39m, \u001b[39m\"\u001b[39m\u001b[39mffill\u001b[39m\u001b[39m\"\u001b[39m, \u001b[39m\"\u001b[39m\u001b[39mbfill\u001b[39m\u001b[39m\"\u001b[39m] \u001b[39m|\u001b[39m lib\u001b[39m.\u001b[39mNoDefault \u001b[39m=\u001b[39m lib\u001b[39m.\u001b[39mno_default,\n\u001b[0;32m   5379\u001b[0m ) \u001b[39m-\u001b[39m\u001b[39m>\u001b[39m Series \u001b[39m|\u001b[39m \u001b[39mNone\u001b[39;00m:\n\u001b[1;32m-> 5380\u001b[0m     \u001b[39mreturn\u001b[39;00m \u001b[39msuper\u001b[39;49m()\u001b[39m.\u001b[39;49mreplace(\n\u001b[0;32m   5381\u001b[0m         to_replace\u001b[39m=\u001b[39;49mto_replace,\n\u001b[0;32m   5382\u001b[0m         value\u001b[39m=\u001b[39;49mvalue,\n\u001b[0;32m   5383\u001b[0m         inplace\u001b[39m=\u001b[39;49minplace,\n\u001b[0;32m   5384\u001b[0m         limit\u001b[39m=\u001b[39;49mlimit,\n\u001b[0;32m   5385\u001b[0m         regex\u001b[39m=\u001b[39;49mregex,\n\u001b[0;32m   5386\u001b[0m         method\u001b[39m=\u001b[39;49mmethod,\n\u001b[0;32m   5387\u001b[0m     )\n",
      "File \u001b[1;32m~\\AppData\\Local\\Packages\\PythonSoftwareFoundation.Python.3.9_qbz5n2kfra8p0\\LocalCache\\local-packages\\Python39\\site-packages\\pandas\\util\\_decorators.py:331\u001b[0m, in \u001b[0;36mdeprecate_nonkeyword_arguments.<locals>.decorate.<locals>.wrapper\u001b[1;34m(*args, **kwargs)\u001b[0m\n\u001b[0;32m    325\u001b[0m \u001b[39mif\u001b[39;00m \u001b[39mlen\u001b[39m(args) \u001b[39m>\u001b[39m num_allow_args:\n\u001b[0;32m    326\u001b[0m     warnings\u001b[39m.\u001b[39mwarn(\n\u001b[0;32m    327\u001b[0m         msg\u001b[39m.\u001b[39mformat(arguments\u001b[39m=\u001b[39m_format_argument_list(allow_args)),\n\u001b[0;32m    328\u001b[0m         \u001b[39mFutureWarning\u001b[39;00m,\n\u001b[0;32m    329\u001b[0m         stacklevel\u001b[39m=\u001b[39mfind_stack_level(),\n\u001b[0;32m    330\u001b[0m     )\n\u001b[1;32m--> 331\u001b[0m \u001b[39mreturn\u001b[39;00m func(\u001b[39m*\u001b[39margs, \u001b[39m*\u001b[39m\u001b[39m*\u001b[39mkwargs)\n",
      "File \u001b[1;32m~\\AppData\\Local\\Packages\\PythonSoftwareFoundation.Python.3.9_qbz5n2kfra8p0\\LocalCache\\local-packages\\Python39\\site-packages\\pandas\\core\\generic.py:7237\u001b[0m, in \u001b[0;36mNDFrame.replace\u001b[1;34m(self, to_replace, value, inplace, limit, regex, method)\u001b[0m\n\u001b[0;32m   7232\u001b[0m     \u001b[39mif\u001b[39;00m \u001b[39mlen\u001b[39m(to_replace) \u001b[39m!=\u001b[39m \u001b[39mlen\u001b[39m(value):\n\u001b[0;32m   7233\u001b[0m         \u001b[39mraise\u001b[39;00m \u001b[39mValueError\u001b[39;00m(\n\u001b[0;32m   7234\u001b[0m             \u001b[39mf\u001b[39m\u001b[39m\"\u001b[39m\u001b[39mReplacement lists must match in length. \u001b[39m\u001b[39m\"\u001b[39m\n\u001b[0;32m   7235\u001b[0m             \u001b[39mf\u001b[39m\u001b[39m\"\u001b[39m\u001b[39mExpecting \u001b[39m\u001b[39m{\u001b[39;00m\u001b[39mlen\u001b[39m(to_replace)\u001b[39m}\u001b[39;00m\u001b[39m got \u001b[39m\u001b[39m{\u001b[39;00m\u001b[39mlen\u001b[39m(value)\u001b[39m}\u001b[39;00m\u001b[39m \u001b[39m\u001b[39m\"\u001b[39m\n\u001b[0;32m   7236\u001b[0m         )\n\u001b[1;32m-> 7237\u001b[0m     new_data \u001b[39m=\u001b[39m \u001b[39mself\u001b[39;49m\u001b[39m.\u001b[39;49m_mgr\u001b[39m.\u001b[39;49mreplace_list(\n\u001b[0;32m   7238\u001b[0m         src_list\u001b[39m=\u001b[39;49mto_replace,\n\u001b[0;32m   7239\u001b[0m         dest_list\u001b[39m=\u001b[39;49mvalue,\n\u001b[0;32m   7240\u001b[0m         inplace\u001b[39m=\u001b[39;49minplace,\n\u001b[0;32m   7241\u001b[0m         regex\u001b[39m=\u001b[39;49mregex,\n\u001b[0;32m   7242\u001b[0m     )\n\u001b[0;32m   7244\u001b[0m \u001b[39melif\u001b[39;00m to_replace \u001b[39mis\u001b[39;00m \u001b[39mNone\u001b[39;00m:\n\u001b[0;32m   7245\u001b[0m     \u001b[39mif\u001b[39;00m \u001b[39mnot\u001b[39;00m (\n\u001b[0;32m   7246\u001b[0m         is_re_compilable(regex)\n\u001b[0;32m   7247\u001b[0m         \u001b[39mor\u001b[39;00m is_list_like(regex)\n\u001b[0;32m   7248\u001b[0m         \u001b[39mor\u001b[39;00m is_dict_like(regex)\n\u001b[0;32m   7249\u001b[0m     ):\n",
      "File \u001b[1;32m~\\AppData\\Local\\Packages\\PythonSoftwareFoundation.Python.3.9_qbz5n2kfra8p0\\LocalCache\\local-packages\\Python39\\site-packages\\pandas\\core\\internals\\managers.py:487\u001b[0m, in \u001b[0;36mBaseBlockManager.replace_list\u001b[1;34m(self, src_list, dest_list, inplace, regex)\u001b[0m\n\u001b[0;32m    484\u001b[0m \u001b[39m\u001b[39m\u001b[39m\"\"\"do a list replace\"\"\"\u001b[39;00m\n\u001b[0;32m    485\u001b[0m inplace \u001b[39m=\u001b[39m validate_bool_kwarg(inplace, \u001b[39m\"\u001b[39m\u001b[39minplace\u001b[39m\u001b[39m\"\u001b[39m)\n\u001b[1;32m--> 487\u001b[0m bm \u001b[39m=\u001b[39m \u001b[39mself\u001b[39;49m\u001b[39m.\u001b[39;49mapply(\n\u001b[0;32m    488\u001b[0m     \u001b[39m\"\u001b[39;49m\u001b[39mreplace_list\u001b[39;49m\u001b[39m\"\u001b[39;49m,\n\u001b[0;32m    489\u001b[0m     src_list\u001b[39m=\u001b[39;49msrc_list,\n\u001b[0;32m    490\u001b[0m     dest_list\u001b[39m=\u001b[39;49mdest_list,\n\u001b[0;32m    491\u001b[0m     inplace\u001b[39m=\u001b[39;49minplace,\n\u001b[0;32m    492\u001b[0m     regex\u001b[39m=\u001b[39;49mregex,\n\u001b[0;32m    493\u001b[0m )\n\u001b[0;32m    494\u001b[0m bm\u001b[39m.\u001b[39m_consolidate_inplace()\n\u001b[0;32m    495\u001b[0m \u001b[39mreturn\u001b[39;00m bm\n",
      "File \u001b[1;32m~\\AppData\\Local\\Packages\\PythonSoftwareFoundation.Python.3.9_qbz5n2kfra8p0\\LocalCache\\local-packages\\Python39\\site-packages\\pandas\\core\\internals\\managers.py:352\u001b[0m, in \u001b[0;36mBaseBlockManager.apply\u001b[1;34m(self, f, align_keys, ignore_failures, **kwargs)\u001b[0m\n\u001b[0;32m    350\u001b[0m         applied \u001b[39m=\u001b[39m b\u001b[39m.\u001b[39mapply(f, \u001b[39m*\u001b[39m\u001b[39m*\u001b[39mkwargs)\n\u001b[0;32m    351\u001b[0m     \u001b[39melse\u001b[39;00m:\n\u001b[1;32m--> 352\u001b[0m         applied \u001b[39m=\u001b[39m \u001b[39mgetattr\u001b[39m(b, f)(\u001b[39m*\u001b[39m\u001b[39m*\u001b[39mkwargs)\n\u001b[0;32m    353\u001b[0m \u001b[39mexcept\u001b[39;00m (\u001b[39mTypeError\u001b[39;00m, \u001b[39mNotImplementedError\u001b[39;00m):\n\u001b[0;32m    354\u001b[0m     \u001b[39mif\u001b[39;00m \u001b[39mnot\u001b[39;00m ignore_failures:\n",
      "File \u001b[1;32m~\\AppData\\Local\\Packages\\PythonSoftwareFoundation.Python.3.9_qbz5n2kfra8p0\\LocalCache\\local-packages\\Python39\\site-packages\\pandas\\core\\internals\\blocks.py:705\u001b[0m, in \u001b[0;36mBlock.replace_list\u001b[1;34m(self, src_list, dest_list, inplace, regex)\u001b[0m\n\u001b[0;32m    701\u001b[0m \u001b[39mif\u001b[39;00m is_string_dtype(values\u001b[39m.\u001b[39mdtype):\n\u001b[0;32m    702\u001b[0m     \u001b[39m# Calculate the mask once, prior to the call of comp\u001b[39;00m\n\u001b[0;32m    703\u001b[0m     \u001b[39m# in order to avoid repeating the same computations\u001b[39;00m\n\u001b[0;32m    704\u001b[0m     mask \u001b[39m=\u001b[39m \u001b[39m~\u001b[39misna(values)\n\u001b[1;32m--> 705\u001b[0m     masks \u001b[39m=\u001b[39m [\n\u001b[0;32m    706\u001b[0m         compare_or_regex_search(values, s[\u001b[39m0\u001b[39m], regex\u001b[39m=\u001b[39mregex, mask\u001b[39m=\u001b[39mmask)\n\u001b[0;32m    707\u001b[0m         \u001b[39mfor\u001b[39;00m s \u001b[39min\u001b[39;00m pairs\n\u001b[0;32m    708\u001b[0m     ]\n\u001b[0;32m    709\u001b[0m \u001b[39melse\u001b[39;00m:\n\u001b[0;32m    710\u001b[0m     \u001b[39m# GH#38086 faster if we know we dont need to check for regex\u001b[39;00m\n\u001b[0;32m    711\u001b[0m     masks \u001b[39m=\u001b[39m [missing\u001b[39m.\u001b[39mmask_missing(values, s[\u001b[39m0\u001b[39m]) \u001b[39mfor\u001b[39;00m s \u001b[39min\u001b[39;00m pairs]\n",
      "File \u001b[1;32m~\\AppData\\Local\\Packages\\PythonSoftwareFoundation.Python.3.9_qbz5n2kfra8p0\\LocalCache\\local-packages\\Python39\\site-packages\\pandas\\core\\internals\\blocks.py:706\u001b[0m, in \u001b[0;36m<listcomp>\u001b[1;34m(.0)\u001b[0m\n\u001b[0;32m    701\u001b[0m \u001b[39mif\u001b[39;00m is_string_dtype(values\u001b[39m.\u001b[39mdtype):\n\u001b[0;32m    702\u001b[0m     \u001b[39m# Calculate the mask once, prior to the call of comp\u001b[39;00m\n\u001b[0;32m    703\u001b[0m     \u001b[39m# in order to avoid repeating the same computations\u001b[39;00m\n\u001b[0;32m    704\u001b[0m     mask \u001b[39m=\u001b[39m \u001b[39m~\u001b[39misna(values)\n\u001b[0;32m    705\u001b[0m     masks \u001b[39m=\u001b[39m [\n\u001b[1;32m--> 706\u001b[0m         compare_or_regex_search(values, s[\u001b[39m0\u001b[39;49m], regex\u001b[39m=\u001b[39;49mregex, mask\u001b[39m=\u001b[39;49mmask)\n\u001b[0;32m    707\u001b[0m         \u001b[39mfor\u001b[39;00m s \u001b[39min\u001b[39;00m pairs\n\u001b[0;32m    708\u001b[0m     ]\n\u001b[0;32m    709\u001b[0m \u001b[39melse\u001b[39;00m:\n\u001b[0;32m    710\u001b[0m     \u001b[39m# GH#38086 faster if we know we dont need to check for regex\u001b[39;00m\n\u001b[0;32m    711\u001b[0m     masks \u001b[39m=\u001b[39m [missing\u001b[39m.\u001b[39mmask_missing(values, s[\u001b[39m0\u001b[39m]) \u001b[39mfor\u001b[39;00m s \u001b[39min\u001b[39;00m pairs]\n",
      "File \u001b[1;32m~\\AppData\\Local\\Packages\\PythonSoftwareFoundation.Python.3.9_qbz5n2kfra8p0\\LocalCache\\local-packages\\Python39\\site-packages\\pandas\\core\\array_algos\\replace.py:112\u001b[0m, in \u001b[0;36mcompare_or_regex_search\u001b[1;34m(a, b, regex, mask)\u001b[0m\n\u001b[0;32m    107\u001b[0m result \u001b[39m=\u001b[39m op(a)\n\u001b[0;32m    109\u001b[0m \u001b[39mif\u001b[39;00m \u001b[39misinstance\u001b[39m(result, np\u001b[39m.\u001b[39mndarray) \u001b[39mand\u001b[39;00m mask \u001b[39mis\u001b[39;00m \u001b[39mnot\u001b[39;00m \u001b[39mNone\u001b[39;00m:\n\u001b[0;32m    110\u001b[0m     \u001b[39m# The shape of the mask can differ to that of the result\u001b[39;00m\n\u001b[0;32m    111\u001b[0m     \u001b[39m# since we may compare only a subset of a's or b's elements\u001b[39;00m\n\u001b[1;32m--> 112\u001b[0m     tmp \u001b[39m=\u001b[39m np\u001b[39m.\u001b[39;49mzeros(mask\u001b[39m.\u001b[39;49mshape, dtype\u001b[39m=\u001b[39;49mnp\u001b[39m.\u001b[39;49mbool_)\n\u001b[0;32m    113\u001b[0m     np\u001b[39m.\u001b[39mplace(tmp, mask, result)\n\u001b[0;32m    114\u001b[0m     result \u001b[39m=\u001b[39m tmp\n",
      "\u001b[1;31mKeyboardInterrupt\u001b[0m: "
     ]
    }
   ],
   "source": [
    "# User ID's of each impression log:\n",
    "users = User['user_id'].unique()\n",
    "\n",
    "test2 = [i for i in range(len(users))]\n",
    "\n",
    "\n",
    "# Add encodings to dict\n",
    "userid_dict = {}\n",
    "for user in users:\n",
    "    for value in test2:\n",
    "        userid_dict[user] = value\n",
    "        test2.remove(value)\n",
    "        break\n",
    "\n",
    "\n",
    "\n",
    "# Replace column with encodings:\n",
    "U = th.tensor(User['user_id'].replace(userid_dict))\n",
    "U.shape"
   ]
  },
  {
   "cell_type": "code",
   "execution_count": 243,
   "metadata": {},
   "outputs": [
    {
     "name": "stdout",
     "output_type": "stream",
     "text": [
      "['n55189', 'n42782', 'n34694', 'n45794', 'n18445', 'n63302', 'n10414', 'n19347', 'n31801', 'Hpad>>', 'Hpad>>']\n"
     ]
    },
    {
     "ename": "ValueError",
     "evalue": "too many dimensions 'str'",
     "output_type": "error",
     "traceback": [
      "\u001b[1;31m---------------------------------------------------------------------------\u001b[0m",
      "\u001b[1;31mValueError\u001b[0m                                Traceback (most recent call last)",
      "Cell \u001b[1;32mIn[243], line 26\u001b[0m\n\u001b[0;32m     23\u001b[0m X \u001b[39m=\u001b[39m [item\u001b[39m.\u001b[39mupper() \u001b[39mfor\u001b[39;00m item \u001b[39min\u001b[39;00m User[\u001b[39m\"\u001b[39m\u001b[39mhistory\u001b[39m\u001b[39m\"\u001b[39m][\u001b[39m0\u001b[39m]]\n\u001b[0;32m     24\u001b[0m \u001b[39mprint\u001b[39m(tokenizer(User[\u001b[39m\"\u001b[39m\u001b[39mhistory\u001b[39m\u001b[39m\"\u001b[39m][\u001b[39m0\u001b[39m]) \u001b[39m+\u001b[39m [\u001b[39m\"\u001b[39m\u001b[39mHpad>>\u001b[39m\u001b[39m\"\u001b[39m]\u001b[39m*\u001b[39m\u001b[39m2\u001b[39m)\n\u001b[1;32m---> 26\u001b[0m pad_hists \u001b[39m=\u001b[39m [th\u001b[39m.\u001b[39mtensor(tokenizer(User[\u001b[39m\"\u001b[39m\u001b[39mhistory\u001b[39m\u001b[39m\"\u001b[39m][\u001b[39m0\u001b[39m]) \u001b[39m+\u001b[39m [\u001b[39m\"\u001b[39m\u001b[39m<HPad>\u001b[39m\u001b[39m\"\u001b[39m]\u001b[39m*\u001b[39mpad_seq_lengths[i]) \u001b[39mfor\u001b[39;00m i \u001b[39min\u001b[39;00m \u001b[39mrange\u001b[39m(N)]\n\u001b[0;32m     29\u001b[0m pad_hists\n",
      "Cell \u001b[1;32mIn[243], line 26\u001b[0m, in \u001b[0;36m<listcomp>\u001b[1;34m(.0)\u001b[0m\n\u001b[0;32m     23\u001b[0m X \u001b[39m=\u001b[39m [item\u001b[39m.\u001b[39mupper() \u001b[39mfor\u001b[39;00m item \u001b[39min\u001b[39;00m User[\u001b[39m\"\u001b[39m\u001b[39mhistory\u001b[39m\u001b[39m\"\u001b[39m][\u001b[39m0\u001b[39m]]\n\u001b[0;32m     24\u001b[0m \u001b[39mprint\u001b[39m(tokenizer(User[\u001b[39m\"\u001b[39m\u001b[39mhistory\u001b[39m\u001b[39m\"\u001b[39m][\u001b[39m0\u001b[39m]) \u001b[39m+\u001b[39m [\u001b[39m\"\u001b[39m\u001b[39mHpad>>\u001b[39m\u001b[39m\"\u001b[39m]\u001b[39m*\u001b[39m\u001b[39m2\u001b[39m)\n\u001b[1;32m---> 26\u001b[0m pad_hists \u001b[39m=\u001b[39m [th\u001b[39m.\u001b[39;49mtensor(tokenizer(User[\u001b[39m\"\u001b[39;49m\u001b[39mhistory\u001b[39;49m\u001b[39m\"\u001b[39;49m][\u001b[39m0\u001b[39;49m]) \u001b[39m+\u001b[39;49m [\u001b[39m\"\u001b[39;49m\u001b[39m<HPad>\u001b[39;49m\u001b[39m\"\u001b[39;49m]\u001b[39m*\u001b[39;49mpad_seq_lengths[i]) \u001b[39mfor\u001b[39;00m i \u001b[39min\u001b[39;00m \u001b[39mrange\u001b[39m(N)]\n\u001b[0;32m     29\u001b[0m pad_hists\n",
      "\u001b[1;31mValueError\u001b[0m: too many dimensions 'str'"
     ]
    }
   ],
   "source": [
    "# For each impression log: all topics, subtopics and titles embedded and encoded in tensors\n",
    "# First pad topic/subtopic sequences\n",
    "N = len(User['history'])\n",
    "\n",
    "\n",
    "# th.zeros()\n",
    "seq_lengths = th.zeros(N)\n",
    "for i in range(N):\n",
    "    if isinstance(User['history'][i], str):\n",
    "        seq_lengths[i] = len(tokenizer(User['history'][i]))\n",
    "seq_lengths\n",
    "\n",
    "# [item.upper() for item in test]\n",
    "\n",
    "# seq_lengths = [(len(tokenizer(User['history'][i]))) for i in range(len(User['history']))]\n",
    "\n",
    "# Find max sequence length\n",
    "max_seq_length = max(seq_lengths)\n",
    "\n",
    "\n",
    "pad_seq_lengths = ((max_seq_length-seq_lengths).to(th.int32)).tolist()\n",
    "\n",
    "X = [item.upper() for item in User[\"history\"][0]]\n",
    "# print(tokenizer(User[\"history\"][0]) + [\"Hpad>>\"]*2)\n",
    "\n",
    "\n",
    "\n",
    "# NOT WORKING YET: NEED to encode history first\n",
    "pad_hists = th.zeors(N,max_seq_length)\n",
    "for i in range(N):\n",
    "pad_hists = [th.tensor(tokenizer(User[\"history\"][0]) + [\"<HPad>\"]*pad_seq_lengths[i]) ]\n",
    "\n",
    "pad_hists\n",
    "\n"
   ]
  },
  {
   "cell_type": "code",
   "execution_count": null,
   "metadata": {},
   "outputs": [],
   "source": [
    "NewsEncoderModule(topic, subtopic, W).size()"
   ]
  },
  {
   "cell_type": "code",
   "execution_count": 229,
   "metadata": {},
   "outputs": [
    {
     "data": {
      "text/plain": [
       "['n55189',\n",
       " 'n42782',\n",
       " 'n34694',\n",
       " 'n45794',\n",
       " 'n18445',\n",
       " 'n63302',\n",
       " 'n10414',\n",
       " 'n19347',\n",
       " 'n31801']"
      ]
     },
     "execution_count": 229,
     "metadata": {},
     "output_type": "execute_result"
    }
   ],
   "source": [
    "tokenizer(User[\"history\"][0])"
   ]
  },
  {
   "cell_type": "code",
   "execution_count": 226,
   "metadata": {},
   "outputs": [
    {
     "data": {
      "text/plain": [
       "tensor([549, 476, 542,  ..., 535, 500, 556], dtype=torch.int32)"
      ]
     },
     "execution_count": 226,
     "metadata": {},
     "output_type": "execute_result"
    }
   ],
   "source": [
    "(max_seq_length-seq_lengths).to(th.int32)"
   ]
  },
  {
   "cell_type": "code",
   "execution_count": null,
   "metadata": {},
   "outputs": [],
   "source": []
  }
 ],
 "metadata": {
  "kernelspec": {
   "display_name": "Python 3",
   "language": "python",
   "name": "python3"
  },
  "language_info": {
   "codemirror_mode": {
    "name": "ipython",
    "version": 3
   },
   "file_extension": ".py",
   "mimetype": "text/x-python",
   "name": "python",
   "nbconvert_exporter": "python",
   "pygments_lexer": "ipython3",
   "version": "3.9.13"
  },
  "orig_nbformat": 4,
  "vscode": {
   "interpreter": {
    "hash": "f2161e111f783a6322a6ae262a47844d9386d7dfb61a436620c434d93864cb0f"
   }
  }
 },
 "nbformat": 4,
 "nbformat_minor": 2
}
