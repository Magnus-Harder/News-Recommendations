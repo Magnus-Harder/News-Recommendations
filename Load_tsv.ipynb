{
 "cells": [
  {
   "cell_type": "code",
   "execution_count": 1,
   "metadata": {},
   "outputs": [
    {
     "name": "stdout",
     "output_type": "stream",
     "text": [
      "Data contains 17 topics and 264 subtopics\n"
     ]
    }
   ],
   "source": [
    "# Description: Load tsv file\n",
    "\n",
    "# Import libraries\n",
    "import pandas as pd\n",
    "\n",
    "\n",
    "# Load tsv file\n",
    "News = pd.read_csv('MINDsmall_train/news.tsv', sep='\\t', header=None)\n",
    "News.columns = ['news_id', 'category', 'subcategory', 'title', 'abstract', 'url', 'title_entities', 'abstract_entities']\n",
    "\n",
    "User = pd.read_csv('MINDsmall_train/behaviors.tsv', sep='\\t', header=None)\n",
    "User.columns = ['impression_id', 'user_id', 'time', 'history', 'impressions']\n",
    "\n",
    "topic_size = News['category'].nunique()\n",
    "subtopic_size = News['subcategory'].nunique()\n",
    "\n",
    "print(f\"Data contains {topic_size} topics and {subtopic_size} subtopics\")"
   ]
  },
  {
   "cell_type": "code",
   "execution_count": 12,
   "metadata": {},
   "outputs": [],
   "source": [
    "from LSTUR import NewsEncoder, TitleEncoder, TopicEncoder,GloVe\n",
    "import torch as th\n",
    "from torchtext.data.utils import get_tokenizer\n",
    "\n",
    "tokenizer = get_tokenizer('basic_english')\n",
    "\n",
    "topic_embedding_dim = 100\n",
    "subtopic_embedding_dim = 100\n",
    "word_size = 100\n",
    "\n",
    "\n",
    "NewsEncoderModule = NewsEncoder(100, 100, topic_size, subtopic_size, 10000)\n",
    "TitleEncoderModule = TitleEncoder(100)\n",
    "TopicEncoderModule = TopicEncoder(100, 100, topic_size, subtopic_size)\n",
    "\n",
    "topic = th.tensor([0],dtype=th.int32)\n",
    "subtopic = th.tensor([0],dtype=th.int32)\n",
    "\n",
    "title = tokenizer(News['title'][0])\n",
    "W = GloVe.get_vecs_by_tokens(title)"
   ]
  },
  {
   "cell_type": "code",
   "execution_count": 15,
   "metadata": {},
   "outputs": [
    {
     "data": {
      "text/plain": [
       "torch.Size([1, 500])"
      ]
     },
     "execution_count": 15,
     "metadata": {},
     "output_type": "execute_result"
    }
   ],
   "source": [
    "NewsEncoderModule(topic, subtopic, W).size()"
   ]
  },
  {
   "cell_type": "code",
   "execution_count": null,
   "metadata": {},
   "outputs": [],
   "source": []
  }
 ],
 "metadata": {
  "kernelspec": {
   "display_name": ".venv",
   "language": "python",
   "name": "python3"
  },
  "language_info": {
   "codemirror_mode": {
    "name": "ipython",
    "version": 3
   },
   "file_extension": ".py",
   "mimetype": "text/x-python",
   "name": "python",
   "nbconvert_exporter": "python",
   "pygments_lexer": "ipython3",
   "version": "3.9.16"
  },
  "orig_nbformat": 4,
  "vscode": {
   "interpreter": {
    "hash": "546924c72266054aa1fd3b326110d7f9571ebb101ba9d1b066b50dfc47c2fe3b"
   }
  }
 },
 "nbformat": 4,
 "nbformat_minor": 2
}
